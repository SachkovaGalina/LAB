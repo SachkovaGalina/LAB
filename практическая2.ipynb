{
  "nbformat": 4,
  "nbformat_minor": 0,
  "metadata": {
    "colab": {
      "name": "практическая2.ipynb",
      "provenance": []
    },
    "kernelspec": {
      "name": "python3",
      "display_name": "Python 3"
    },
    "language_info": {
      "name": "python"
    }
  },
  "cells": [
    {
      "cell_type": "code",
      "metadata": {
        "colab": {
          "base_uri": "https://localhost:8080/",
          "height": 173
        },
        "id": "KG2Kr6IDI9sd",
        "outputId": "817d33f6-971a-44c8-d4dd-9d41ccdf2ac5"
      },
      "source": [
        "class Person:\n",
        "  def __init__(self, n, s, q=1):\n",
        "    self.name = n\n",
        "    self.surname = s\n",
        "    self.skill = q\n",
        "    \n",
        "  def info(self):\n",
        "    return \"{0} {1}, {2}\" .format(self.name, self.surname, self.skill)\n",
        "\n",
        "  def __del__(self):\n",
        "    print(\"До свидания, мистер\", self.name, self.surname)\n",
        "\n",
        "  \n",
        "worker = Person(\"И\", \"Котов\", 3)\n",
        "helper = Person(\"Д\", \"Мышев\", 1)\n",
        "maker = Person(\"О\", \"Рисов\", 2)\n",
        "print(worker.info())\n",
        "print(helper.info())\n",
        "print(maker.info())\n",
        "del helper\n",
        "print(\"Конец программы\")\n",
        "input()"
      ],
      "execution_count": 13,
      "outputs": [
        {
          "name": "stdout",
          "output_type": "stream",
          "text": [
            "И Котов, 3\n",
            "Д Мышев, 1\n",
            "О Рисов, 2\n",
            "До свидания, мистер Д Мышев\n",
            "Конец программы\n",
            "До свидания, мистер И Котов\n",
            "До свидания, мистер О Рисов\n",
            "\n"
          ]
        },
        {
          "output_type": "execute_result",
          "data": {
            "application/vnd.google.colaboratory.intrinsic+json": {
              "type": "string"
            },
            "text/plain": [
              "''"
            ]
          },
          "metadata": {},
          "execution_count": 13
        }
      ]
    },
    {
      "cell_type": "code",
      "metadata": {
        "id": "y06OPKQvR5G7"
      },
      "source": [
        "class Student:\n",
        "    def __init__(self, name, data, phone, mail, university, gender, faculty, special, grade, group='ADEU-211'):\n",
        "        self.name = name\n",
        "        self.data = data\n",
        "        self.phone = phone\n",
        "        self.mail = mail\n",
        "        self.university = university\n",
        "        self.gender = gender\n",
        "        self.faculty = faculty\n",
        "        self.special = special\n",
        "        self.grade = grade\n",
        "        self.group = group\n",
        "\n",
        "    def display(self):\n",
        "        return self.name, self.grade, d[self.grade]\n",
        "\n",
        "    def deduction(self):\n",
        "        print(\"Отчислен студент \" + str(self.display()))\n",
        "\n",
        "    def __del__(self):\n",
        "        if self.grade == 2:\n",
        "            self.deduction()\n"
      ],
      "execution_count": 7,
      "outputs": []
    },
    {
      "cell_type": "code",
      "metadata": {
        "colab": {
          "base_uri": "https://localhost:8080/"
        },
        "id": "NfuCQq6ZR6P-",
        "outputId": "041bdd0d-f79d-40e1-dab7-3717641b4694"
      },
      "source": [
        "d = {2: 'Задолжник', 4: 'Ударник', 5: 'Отличник'}\n",
        "s1 = Student(\"Петров\", \"01.01.2001\", \"88005553535\", \"petrov@gmail.com\", \"МГПУ\", \"м\", \"11\", \"211\", 2)\n",
        "s2 = Student(\"Петрова\", \"01.01.1999\", \"88000000000\", \"petrova@gmail.com\", \"МГПУ\", \"ж\", \"11\", \"211\", 5)\n",
        "\n",
        "if s1.grade > s2.grade:\n",
        "    s2.deduction()\n",
        "elif s1.grade < s2.grade:\n",
        "    s1.deduction()\n",
        "else:\n",
        "    print(\"МОЛОДЦЫ!\")"
      ],
      "execution_count": 8,
      "outputs": [
        {
          "output_type": "stream",
          "name": "stdout",
          "text": [
            "Отчислен студент ('Петров', 2, 'Задолжник')\n"
          ]
        }
      ]
    }
  ]
}