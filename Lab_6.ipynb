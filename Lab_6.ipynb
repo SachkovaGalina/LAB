{
  "nbformat": 4,
  "nbformat_minor": 0,
  "metadata": {
    "colab": {
      "name": "Lab_6.ipynb",
      "provenance": []
    },
    "kernelspec": {
      "name": "python3",
      "display_name": "Python 3"
    },
    "language_info": {
      "name": "python"
    }
  },
  "cells": [
    {
      "cell_type": "markdown",
      "source": [
        "Для задач 6.2.1-6.2.7 ответьте на следующие вопросы:\n",
        "\n",
        "Что выполняет приведенная функция?\n",
        "Какова вычислительная сложность алгоритма (наихудшая оценка, \n",
        "O\n",
        "-нотацию)?\n",
        "Ответы необходимо указать в строке документации с пометкой «Алгоритм» и «Сложность» соответственно. Сложность - один из вариантов:"
      ],
      "metadata": {
        "id": "N8WRAJ_EeE75"
      }
    },
    {
      "cell_type": "markdown",
      "source": [
        "№6.2.1\n"
      ],
      "metadata": {
        "id": "-SGVZSmtYpBX"
      }
    },
    {
      "cell_type": "code",
      "execution_count": 1,
      "metadata": {
        "colab": {
          "base_uri": "https://localhost:8080/"
        },
        "id": "GmDYolzMYYrW",
        "outputId": "bc25a48a-13c0-4abe-92f4-5946b6023765"
      },
      "outputs": [
        {
          "output_type": "execute_result",
          "data": {
            "text/plain": [
              "[-2, -2, -2, 1, 1, 2, 2, 2, 2, 2, 3, 3, 3, 4, 4, 5, 65]"
            ]
          },
          "metadata": {},
          "execution_count": 1
        }
      ],
      "source": [
        "# Программирование на языке высокого уровня (Python).\n",
        "# https://www.yuripetrov.ru/edu/python\n",
        "# Задание task_06_02_01.\n",
        "#\n",
        "# Выполнил: Сачкова Г.Г.\n",
        "# Группа: !!!\n",
        "# E-mail: !!!\n",
        "\n",
        "# Алгоритм: Формирует список из чисел по возрастанию\n",
        "\n",
        "\n",
        "def foo(a):\n",
        "    \"\"\"!!!\n",
        "\n",
        "    Сложность: !!!.\n",
        "    \"\"\"\n",
        "    for i in range(len(a), 0, -1): # O(1)\n",
        "        for j in range(1, i): # O(N)\n",
        "            if a[j-1] > a[j]: # O(1)\n",
        "                a[j-1], a[j] = a[j], a[j-1] # O(1)\n",
        "    return a\n",
        "#Сложность: O(1)*O(N)*(O(1)+O(1))\n",
        "\n",
        "a = [1, 2, 3, 4, 2, 1, 3, 4, 3, 5, -2, -2, 2, -2, 65, 2, 2]\n",
        "foo(a)\n"
      ]
    },
    {
      "cell_type": "markdown",
      "source": [
        "№6.2.2"
      ],
      "metadata": {
        "id": "lK1Xn7FHYweg"
      }
    },
    {
      "cell_type": "code",
      "source": [
        "# Программирование на языке высокого уровня (Python).\n",
        "# https://www.yuripetrov.ru/edu/python\n",
        "# Задание task_06_02_02.\n",
        "#\n",
        "# Выполнил: Сачкова Г.Г.\n",
        "# Группа: !!!\n",
        "# E-mail: !!!\n",
        "\n",
        "# Алгоритм: Выводит число, которое было задано изначально\n",
        "def foo(i):\n",
        "    \"\"\"!!!\n",
        "\n",
        "    Параметры:\n",
        "        - i (int): число.\n",
        "\n",
        "    Сложность: !!!.\n",
        "    \"\"\"\n",
        "    digits = \"0123456789\"\n",
        "    if i == 0: # O(1)\n",
        "        return \"0\"\n",
        "    result = \"\"\n",
        "    while i > 0: # O(N)\n",
        "        result = digits[i%10] + result\n",
        "        i = i // 10\n",
        "    return result\n",
        "\n",
        "# Сложность: O(1)+O(N)=1+O(N)"
      ],
      "metadata": {
        "id": "egotDo4YYwxH"
      },
      "execution_count": 10,
      "outputs": []
    },
    {
      "cell_type": "markdown",
      "source": [
        "№6.2.3"
      ],
      "metadata": {
        "id": "GeWER3esYxjj"
      }
    },
    {
      "cell_type": "code",
      "source": [
        "# Программирование на языке высокого уровня (Python).\n",
        "# https://www.yuripetrov.ru/edu/python\n",
        "# Задание task_06_02_03.\n",
        "#\n",
        "# Выполнил: Сачкова Г.Г.\n",
        "# Группа: !!!\n",
        "# E-mail: !!!\n",
        "\n",
        "# Алгоритм: Выводит сумму чисел, которые записаны в строке\n",
        "def foo(s):\n",
        "    \"\"\"!!!\n",
        "\n",
        "    Параметры:\n",
        "        - s (str): строка.\n",
        "\n",
        "    Сложность: !!!.\n",
        "    \"\"\"\n",
        "    val = 0\n",
        "    for c in s: # O(N)\n",
        "        if c.isdigit(): # O(1)\n",
        "            val += int(c)\n",
        "    return val\n",
        "\n",
        "# Сложность: O(N)*O(1)=O(N)"
      ],
      "metadata": {
        "id": "fu4Q1PnRYxu_"
      },
      "execution_count": 11,
      "outputs": []
    },
    {
      "cell_type": "markdown",
      "source": [
        "№6.2.4"
      ],
      "metadata": {
        "id": "8PvjUupfYx6M"
      }
    },
    {
      "cell_type": "code",
      "source": [
        "# Программирование на языке высокого уровня (Python).\n",
        "# https://www.yuripetrov.ru/edu/python\n",
        "# Задание task_06_02_04.\n",
        "#\n",
        "# Выполнил: Сачкова Г.Г.\n",
        "# Группа: !!!\n",
        "# E-mail: !!!\n",
        "\n",
        "# Алгоритм: выводит все числа до введенного числа\n",
        "def foo(n):\n",
        "    \"\"\"!!!\n",
        "\n",
        "    Параметры:\n",
        "        - n (int): число.\n",
        "\n",
        "    Сложность: !!!.\n",
        "    \"\"\"\n",
        "    res = []\n",
        "    for i in range(1, n + 1): # O(N)\n",
        "        divisors = 0\n",
        "        j = 2\n",
        "        while j < i and divisors == 0: # O(1)\n",
        "            if i % j == 0: # O(1)\n",
        "                divisors += 1\n",
        "            j += 1\n",
        "\n",
        "        if divisors == 0: # O(1)\n",
        "            res.append(i)\n",
        "\n",
        "    return res\n",
        "# Сложность: O(N)*(O(1)*O(1)+O(1))= 2*O(N)"
      ],
      "metadata": {
        "id": "MDZtiRVcYyFb"
      },
      "execution_count": 15,
      "outputs": []
    },
    {
      "cell_type": "markdown",
      "source": [
        "№6.2.5"
      ],
      "metadata": {
        "id": "JJ8mCOYXYyQG"
      }
    },
    {
      "cell_type": "code",
      "source": [
        "# Программирование на языке высокого уровня (Python).\n",
        "# https://www.yuripetrov.ru/edu/python\n",
        "# Задание task_06_02_05.\n",
        "#\n",
        "# Выполнил: Сачкова Г.Г.\n",
        "# Группа: !!!\n",
        "# E-mail: !!!\n",
        "\n",
        "# Алгоритм: Проверяет чет/нечет элементов списка, при это, если хотя бы дночисло четное-программа выводит \"true\"\n",
        "def foo(nums):\n",
        "    \"\"\"!!!\n",
        "\n",
        "    Параметры:\n",
        "        - nums (list): список.\n",
        "\n",
        "    Сложность: !!!.\n",
        "    \"\"\"\n",
        "    for x in nums: # O(1)\n",
        "        if x % 2 == 0: # O(1)\n",
        "            return True\n",
        "    else:\n",
        "        return False\n",
        "# nums = [1,2,3,5,7]\n",
        "# foo(nums)\n",
        "\n",
        "#Сложность: # O(1)*O(1)=1"
      ],
      "metadata": {
        "colab": {
          "base_uri": "https://localhost:8080/"
        },
        "id": "K_o2NfUTYycs",
        "outputId": "9ba94d02-3a3e-466b-cd79-f55f785c1032"
      },
      "execution_count": 18,
      "outputs": [
        {
          "output_type": "execute_result",
          "data": {
            "text/plain": [
              "True"
            ]
          },
          "metadata": {},
          "execution_count": 18
        }
      ]
    },
    {
      "cell_type": "markdown",
      "source": [
        "№6.2.6"
      ],
      "metadata": {
        "id": "brmYl6b-YypJ"
      }
    },
    {
      "cell_type": "code",
      "source": [
        "# Программирование на языке высокого уровня (Python).\n",
        "# https://www.yuripetrov.ru/edu/python\n",
        "# Задание task_06_02_06.\n",
        "#\n",
        "# Выполнил: Сачкова Г.Г.\n",
        "# Группа: !!!\n",
        "# E-mail: !!!\n",
        "\n",
        "# Алгоритм: Возводит в квадрат последний элемент из списка и прибавляет первый элемент\n",
        "def foo(nums):\n",
        "    \"\"\"!!!\n",
        "\n",
        "    Параметры:\n",
        "        - nums (list): список.\n",
        "\n",
        "    Сложность: !!!.\n",
        "    \"\"\"\n",
        "    return (nums[0] + nums[-1] ** 2) #O(1)\n",
        "\n",
        "nums=[2,3,4,5,6,7]\n",
        "foo(nums)\n",
        "\n",
        "# Сложность: # O(1)"
      ],
      "metadata": {
        "colab": {
          "base_uri": "https://localhost:8080/"
        },
        "id": "_2ujIwvIYy0k",
        "outputId": "f8505d62-7247-4202-d57d-00618e269ae8"
      },
      "execution_count": 27,
      "outputs": [
        {
          "output_type": "execute_result",
          "data": {
            "text/plain": [
              "51"
            ]
          },
          "metadata": {},
          "execution_count": 27
        }
      ]
    }
  ]
}