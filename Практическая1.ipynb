{
  "nbformat": 4,
  "nbformat_minor": 0,
  "metadata": {
    "colab": {
      "name": "Практическая1.ipynb",
      "provenance": []
    },
    "kernelspec": {
      "name": "python3",
      "display_name": "Python 3"
    },
    "language_info": {
      "name": "python"
    }
  },
  "cells": [
    {
      "cell_type": "code",
      "metadata": {
        "colab": {
          "base_uri": "https://localhost:8080/"
        },
        "id": "Xcc43xxngpV4",
        "outputId": "1c0b0648-89d8-4ac4-92dd-354ead638634"
      },
      "source": [
        "# Задание 1\n",
        "class First:\n",
        "  color = \"red\"\n",
        "  def out(self):\n",
        "    print (self.color + \"!\")\n",
        "\n",
        "obj1 = First()\n",
        "obj2 = First()\n",
        "\n",
        "print(obj1.color)\n",
        "print(obj2.color)\n",
        "\n",
        "obj1.out()\n",
        "obj2.out()"
      ],
      "execution_count": null,
      "outputs": [
        {
          "output_type": "stream",
          "name": "stdout",
          "text": [
            "red\n",
            "red\n",
            "red!\n",
            "red!\n"
          ]
        }
      ]
    },
    {
      "cell_type": "code",
      "metadata": {
        "id": "7v74rd_4gvkK",
        "colab": {
          "base_uri": "https://localhost:8080/"
        },
        "outputId": "7c21d84a-6d5b-41ae-ee2f-bbc9a691c860"
      },
      "source": [
        "# Задание 2 практическия работа пункт 1\n",
        "class Second:\n",
        "    color = \"red\"\n",
        "    form = \"circle\"\n",
        "    material = 'paper'\n",
        "    def changecolor(self, newcolor):\n",
        "        self.color = newcolor\n",
        "\n",
        "    def changeform(self, newform):\n",
        "        self.form = newform\n",
        "\n",
        "    def changematerial(self, newmaterial):\n",
        "        self.material = newmaterial\n",
        "\n",
        "\n",
        "obj1 = Second()\n",
        "obj2 = Second()\n",
        "obj3 = Second()\n",
        "\n",
        "print(obj1.color, obj1.form, obj1.material)\n",
        "print(obj2.color, obj2.form, obj2.material)\n",
        "print(obj3.color, obj3.form, obj3.material)\n",
        "\n",
        "obj1.changecolor(\"green\")\n",
        "obj2.changecolor(\"blue\")\n",
        "obj2.changeform(\"oval\")\n",
        "obj3.changecolor(\"green\")\n",
        "obj3.changeform(\"line\")\n",
        "obj3.changematerial('metal')\n",
        "\n",
        "print(obj1.color, obj1.form, obj1.material)\n",
        "print(obj2.color, obj2.form, obj2.material)\n",
        "print(obj3.color, obj3.form, obj3.material)"
      ],
      "execution_count": null,
      "outputs": [
        {
          "output_type": "stream",
          "name": "stdout",
          "text": [
            "red circle paper\n",
            "red circle paper\n",
            "red circle paper\n",
            "green circle paper\n",
            "blue oval paper\n",
            "green line metal\n"
          ]
        }
      ]
    },
    {
      "cell_type": "code",
      "metadata": {
        "id": "L_yuGs4vgzWW",
        "colab": {
          "base_uri": "https://localhost:8080/"
        },
        "outputId": "c1904fda-64dd-492c-d903-5d4f3e1404b1"
      },
      "source": [
        "# Задание 2 практическия работа пункт 2\n",
        "class First:\n",
        "    color = \"red\"\n",
        "\n",
        "    def out(self):\n",
        "        print(self.color + \"!\")\n",
        "\n",
        "    def changeform(self):\n",
        "        Second.form = input(\"Введите новую форму: \")\n",
        "\n",
        "\n",
        "class Second:\n",
        "    color = \"red\"\n",
        "    form = \"circle\"\n",
        "    material = 'paper'\n",
        "\n",
        "    def changecolor(self, newcolor):\n",
        "        self.color = newcolor\n",
        "\n",
        "    def changeform(self, newform):\n",
        "        self.form = newform\n",
        "\n",
        "    def changematerial(self, newmaterial):\n",
        "        self.material = newmaterial\n",
        "\n",
        "\n",
        "obj1 = First()\n",
        "obj2 = Second()\n",
        "\n",
        "print(obj1.color)\n",
        "print(obj2.color, obj2.form, obj2.material)\n",
        "\n",
        "obj1.changeform()\n",
        "\n",
        "print(obj1.color)\n",
        "print(obj2.color, obj2.form, obj2.material)\n"
      ],
      "execution_count": 1,
      "outputs": [
        {
          "output_type": "stream",
          "name": "stdout",
          "text": [
            "red\n",
            "red circle paper\n",
            "Введите новую форму: куадрад\n",
            "red\n",
            "red куадрад paper\n"
          ]
        }
      ]
    },
    {
      "cell_type": "code",
      "metadata": {
        "id": "hkbceYtZg3It",
        "colab": {
          "base_uri": "https://localhost:8080/"
        },
        "outputId": "61599244-40b1-4a01-e2d3-b57a09efbffa"
      },
      "source": [
        "# Задание 3\n",
        "class YesInit:\n",
        "    def __init__(self, one, two):\n",
        "        self.fname = one\n",
        "        self.sname = two\n",
        "\n",
        "\n",
        "obj1 = YesInit('Peter', 'Ok')\n",
        "\n",
        "print(obj1.fname, obj1.sname)\n",
        "\n",
        "\n",
        "class NoInit:\n",
        "    def names(self, one, two):\n",
        "        self.fname = one\n",
        "        self.sname = two\n",
        "\n",
        "\n",
        "obj1 = NoInit()\n",
        "obj1.names('Peter', 'Ok')\n",
        "print(obj1.fname, obj1.sname)"
      ],
      "execution_count": null,
      "outputs": [
        {
          "output_type": "stream",
          "name": "stdout",
          "text": [
            "Peter Ok\n",
            "Peter Ok\n"
          ]
        }
      ]
    },
    {
      "cell_type": "code",
      "metadata": {
        "id": "6p2m9M_WhDDL",
        "colab": {
          "base_uri": "https://localhost:8080/"
        },
        "outputId": "6ade364c-9798-4214-d40b-2f6ca9ad3c7c"
      },
      "source": [
        "# Задание 4\n",
        "class YesInit:\n",
        "    def __init__(self, one='noname', two='nonametoo'):\n",
        "        self.fname = one\n",
        "        self.sname = two\n",
        "\n",
        "\n",
        "obj1 = YesInit('Sasha', 'Tu')\n",
        "obj2 = YesInit()\n",
        "obj3 = YesInit('Spartak')\n",
        "obj4 = YesInit(two='Harry')\n",
        "\n",
        "print(obj1.fname, obj1.sname)\n",
        "print(obj2.fname, obj2.sname)\n",
        "print(obj3.fname, obj3.sname)\n",
        "print(obj4.fname, obj4.sname)"
      ],
      "execution_count": null,
      "outputs": [
        {
          "output_type": "stream",
          "name": "stdout",
          "text": [
            "Sasha Tu\n",
            "noname nonametoo\n",
            "Spartak nonametoo\n",
            "noname Harry\n"
          ]
        }
      ]
    },
    {
      "cell_type": "code",
      "metadata": {
        "id": "rDTPkVRzhGX4",
        "colab": {
          "base_uri": "https://localhost:8080/"
        },
        "outputId": "2d561c5c-799a-46cf-adc2-b6dd257cf70e"
      },
      "source": [
        "# Задание 5\n",
        "class Fruits:\n",
        "    def __init__(self, w, n=0):\n",
        "        self.what = w\n",
        "        self.numbers = n\n",
        "\n",
        "\n",
        "f1 = Fruits('apple', 150)\n",
        "f2 = Fruits('pineapple')\n",
        "\n",
        "print(f1.what, f1.numbers)\n",
        "print(f2.what, f2.numbers)\n",
        "\n",
        "# class Fruits:\n",
        "#     def __init__(self, n=0, w):\n",
        "#         self.what = w\n",
        "#         self.numbers = n\n",
        "\n",
        "# f1 = Fruits(150, 'apple')\n",
        "# f2 = Fruits('pineapple')\n",
        "# print(f1.what, f1.numbers)\n",
        "# print(f2.what, f2.numbers)"
      ],
      "execution_count": null,
      "outputs": [
        {
          "output_type": "stream",
          "name": "stdout",
          "text": [
            "apple 150\n",
            "pineapple 0\n"
          ]
        }
      ]
    },
    {
      "cell_type": "code",
      "metadata": {
        "id": "Jik9RHiZhMuP",
        "colab": {
          "base_uri": "https://localhost:8080/"
        },
        "outputId": "968bfd16-3936-4dfe-a5a8-b3d73c914f6b"
      },
      "source": [
        "# Задание 6 практическия работа пункт 1\n",
        "class Building:\n",
        "    def __init__(self, w, c, n=0):\n",
        "        self.what = w\n",
        "        self.color = c\n",
        "        self.numbers = n\n",
        "        self.mwhere(n)  # self.функция(n) определяется для каждого объекта,\n",
        "        # зависит от переменной n\n",
        "\n",
        "    def mwhere(self, n):  # в зависимости от значения n \n",
        "        # присваивает определенное значение строки в self.where\n",
        "        if n <= 0:\n",
        "            self.where = 'отсутствуют'\n",
        "        elif 0 < n < 100:\n",
        "            self.where = 'малый склад'\n",
        "        else:\n",
        "            self.where = 'основной склад'\n",
        "\n",
        "    def plus(self, p):  # прибавляет p к numbers\n",
        "        self.numbers = self.numbers + p\n",
        "        self.mwhere(self.numbers)\n",
        "\n",
        "    def minus(self, m):  # вычитает m от numbers\n",
        "        self.numbers = self.numbers - m\n",
        "        self.mwhere(self.numbers)\n",
        "\n",
        "\n",
        "# создание объектов # создание атрибутов\n",
        "m1 = Building('доски', 'белые', 50)\n",
        "m2 = Building('доски', 'коричневые', 300)\n",
        "m3 = Building('кирпичи', 'белые')\n",
        "\n",
        "# вывод значений объектов\n",
        "print(m1.what, m1.color, m1.where)\n",
        "print(m2.what, m2.color, m2.where)\n",
        "print(m3.what, m3.color, m3.where)\n",
        "\n",
        "# прибавляет 500 к m1.numbers\n",
        "m1.plus(500)\n",
        "\n",
        "# вывод значений m1\n",
        "print(m1.numbers, m1.where)"
      ],
      "execution_count": null,
      "outputs": [
        {
          "output_type": "stream",
          "name": "stdout",
          "text": [
            "доски белые малый склад\n",
            "доски коричневые основной склад\n",
            "кирпичи белые отсутствуют\n",
            "550 основной склад\n"
          ]
        }
      ]
    },
    {
      "cell_type": "code",
      "metadata": {
        "id": "f2_OU7L2JVa_"
      },
      "source": [
        "# Задание 6 практическия работа пункт 2\n",
        "class Test:\n",
        "  def __init__(self, n=0, w=0):\n",
        "    self.n = n\n",
        "    self.w = w\n",
        "\n",
        "\n",
        "obj1 = Test()\n",
        "obj2 = Test()\n"
      ],
      "execution_count": 2,
      "outputs": []
    },
    {
      "cell_type": "code",
      "metadata": {
        "id": "GVRc5KqmhQSv",
        "colab": {
          "base_uri": "https://localhost:8080/"
        },
        "outputId": "250ea419-e11e-4147-d050-de054f5ddac1"
      },
      "source": [
        "# 7 задание\n",
        "class Things:\n",
        "    # color = 'green'(1 вариант)\n",
        "\n",
        "    def __init__(self, n, t):\n",
        "        self.namething = n\n",
        "        self.total = t\n",
        "        # self.color = 'green' (2 вариант)или создать еще одну\n",
        "        # переменную в конструкторе и прировнять к ней self.color\n",
        "        # но тогда при создании класса необходимо указать цвет(3 вариант)\n",
        "\n",
        "\n",
        "th1 = Things('table', 5)\n",
        "th2 = Things('computer', 7)\n",
        "\n",
        "print(th1.namething, th1.total)\n",
        "print(th2.namething, th2.total)\n",
        "\n",
        "# Things.color = 'green'(4 вариант)\n",
        "th1.color = 'green'\n",
        "th2.color = 'red'  # (5 вариант)\n",
        "\n",
        "print(th1.color)\n",
        "print(th2.color)"
      ],
      "execution_count": null,
      "outputs": [
        {
          "output_type": "stream",
          "name": "stdout",
          "text": [
            "table 5\n",
            "computer 7\n",
            "green\n",
            "red\n"
          ]
        }
      ]
    },
    {
      "cell_type": "code",
      "metadata": {
        "id": "f1F_hkEhhVJN",
        "colab": {
          "base_uri": "https://localhost:8080/"
        },
        "outputId": "fca33294-b23f-46ff-8fb5-055cc85c4638"
      },
      "source": [
        "# задание 8\n",
        "\n",
        "class Table:\n",
        "    def __init__(self, l, w, h):\n",
        "        self.long = l\n",
        "        self.width = w\n",
        "        self.height = h\n",
        "\n",
        "    def outing(self):\n",
        "        print(self.long, self.width, self.height)\n",
        "\n",
        "    def howplaces(self, n):\n",
        "        pass\n",
        "\n",
        "\n",
        "class Kitchen(Table):\n",
        "    def howplaces(self, n):\n",
        "        if n < 2:\n",
        "            print(\"It is not kitchen table\")\n",
        "        else:\n",
        "            self.places = n\n",
        "\n",
        "    def outplases(self):\n",
        "        print(self.places)\n",
        "\n",
        "\n",
        "class Worker(Table):\n",
        "    def __init__(self, l, w, h):\n",
        "        super().__init__(l, w, h)\n",
        "        self.nreit(l)\n",
        "\n",
        "    def nreit(self, l):  # в зависимости от значения n\n",
        "        # присваивает определенное значение строки в self.where\n",
        "        if l <= 3:\n",
        "            self.reit = 'Новенький работник'\n",
        "        elif 3 < l <= 5:\n",
        "            self.reit = 'Обычный работник'\n",
        "        else:\n",
        "            self.reit = 'Опытный работник'\n",
        "\n",
        "    def plus_reit(self, p):  # прибавляет p к numbers\n",
        "        self.long = self.long + p\n",
        "        self.nreit(self.long)\n",
        "\n",
        "    def minus_reit(self, m):  # вычитает m от numbers\n",
        "        self.long = self.long - m\n",
        "        self.nreit(self.long)\n",
        "\n",
        "\n",
        "t_room1 = Kitchen(2, 1, 0.5)\n",
        "t_room1.outing()\n",
        "t_room1.howplaces(5)\n",
        "t_room1.outplases()\n",
        "\n",
        "t_2 = Table(1, 3, 0.7)\n",
        "t_2.outing()\n",
        "t_2.howplaces(8)\n",
        "\n",
        "t_3 = Worker(10, 2, 0.1)\n",
        "print(t_3.long, t_3.width, t_3.height, t_3.reit)\n",
        "t_3.minus_reit(5)\n",
        "print(t_3.long, t_3.width, t_3.height, t_3.reit)\n",
        "t_3.minus_reit(3)\n",
        "print(t_3.long, t_3.width, t_3.height, t_3.reit)"
      ],
      "execution_count": null,
      "outputs": [
        {
          "output_type": "stream",
          "name": "stdout",
          "text": [
            "2 1 0.5\n",
            "5\n",
            "1 3 0.7\n",
            "10 2 0.1 Опытный работник\n",
            "5 2 0.1 Обычный работник\n",
            "2 2 0.1 Новенький работник\n"
          ]
        }
      ]
    },
    {
      "cell_type": "code",
      "metadata": {
        "id": "HGwLrECXhYtG",
        "colab": {
          "base_uri": "https://localhost:8080/"
        },
        "outputId": "e965e622-cb9c-4e64-c855-10c1e9f408e5"
      },
      "source": [
        "#Заключительное практическое задание\n",
        "class Figure:\n",
        "    def __init__(self, color='white'):\n",
        "        self.color = color\n",
        "\n",
        "    def changecolor(self, newcolor):\n",
        "        self.color = newcolor\n",
        "\n",
        "\n",
        "class Oval(Figure):\n",
        "    def __init__(self, color='white', w=0, h=0):\n",
        "        super().__init__(color)\n",
        "        self.weight = w\n",
        "        self.height = h\n",
        "\n",
        "\n",
        "class Square(Figure):\n",
        "    def __init__(self, color='white', w=0, h=0):\n",
        "        super().__init__(color)\n",
        "        self.weight = w\n",
        "        self.height = h\n",
        "\n",
        "\n",
        "f1 = Oval()\n",
        "f2 = Square()\n",
        "\n",
        "print(f1.color, f1.weight, f1.height)\n",
        "print(f2.color, f2.weight, f2.height)\n",
        "\n",
        "f1.changecolor('Red')\n",
        "print(f1.color, f1.weight, f1.height)\n",
        "\n",
        "f2.changecolor('Green')\n",
        "print(f2.color, f2.weight, f2.height) "
      ],
      "execution_count": null,
      "outputs": [
        {
          "output_type": "stream",
          "name": "stdout",
          "text": [
            "white 0 0\n",
            "white 0 0\n",
            "Red 0 0\n",
            "Green 0 0\n"
          ]
        }
      ]
    }
  ]
}