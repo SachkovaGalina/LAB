{
  "nbformat": 4,
  "nbformat_minor": 0,
  "metadata": {
    "colab": {
      "name": "4.2.1. Условный оператор.ipynb",
      "provenance": [],
      "collapsed_sections": [],
      "authorship_tag": "ABX9TyPzsHn0v/S3xyqvuqlxQVw/",
      "include_colab_link": true
    },
    "kernelspec": {
      "name": "python3",
      "display_name": "Python 3"
    },
    "language_info": {
      "name": "python"
    }
  },
  "cells": [
    {
      "cell_type": "markdown",
      "metadata": {
        "id": "view-in-github",
        "colab_type": "text"
      },
      "source": [
        "<a href=\"https://colab.research.google.com/github/SachkovaGalina/LAB/blob/main/4_2_1_%D0%A3%D1%81%D0%BB%D0%BE%D0%B2%D0%BD%D1%8B%D0%B9_%D0%BE%D0%BF%D0%B5%D1%80%D0%B0%D1%82%D0%BE%D1%80.ipynb\" target=\"_parent\"><img src=\"https://colab.research.google.com/assets/colab-badge.svg\" alt=\"Open In Colab\"/></a>"
      ]
    },
    {
      "cell_type": "markdown",
      "metadata": {
        "id": "jrHYuRtGHTZ8"
      },
      "source": [
        "№ 4.2.1\n",
        "\n",
        "Рассчитать значение 𝑓\n",
        " при заданном значении вещественного числа 𝑥\n",
        "![Снимок экрана 2021-09-16 в 17.58.11.png](data:image/png;base64,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)\n",
        "При выводе на экран оставьте 2 знака после запятой."
      ]
    },
    {
      "cell_type": "code",
      "metadata": {
        "colab": {
          "base_uri": "https://localhost:8080/"
        },
        "id": "UkvnprW7e2aU",
        "outputId": "7af29ffd-8478-4e2d-a396-d5aceb9e6dd2"
      },
      "source": [
        "# Программирование на языке высокого уровня (Python).\n",
        "# https://www.yuripetrov.ru/edu/python\n",
        "# Задание task_04_02_01.\n",
        "#\n",
        "# Выполнил: Сачкова Г.Г\n",
        "# Группа: АДЭУ211\n",
        "\n",
        "\n",
        "\n",
        "x = float (input('x='))\n",
        "print(\"Введите число x:\", x)\n",
        "\n",
        "if x >= 0:\n",
        "    f = (pow(x, 1/2)) + (x ** 2)\n",
        "    \n",
        "else:\n",
        "    f = 1 / x\n",
        "    \n",
        "# print('f =', round(f, 2))\n",
        "print(\"f =\", (\"%.2f\" % f))\n",
        "\n",
        "# --------------\n",
        "# Пример вывода:\n",
        "#\n",
        "# Введите число x: -10\n",
        "# f = -0.10\n",
        "\n",
        "# Введите число x: 0\n",
        "# f = 0.00\n",
        "\n",
        "# Введите число x: 10\n",
        "# f = 103.16"
      ],
      "execution_count": null,
      "outputs": [
        {
          "output_type": "stream",
          "name": "stdout",
          "text": [
            "x=0\n",
            "Введите число x: 0.0\n",
            "f = 0.00\n"
          ]
        }
      ]
    },
    {
      "cell_type": "markdown",
      "metadata": {
        "id": "LwAZD_-9vzn0"
      },
      "source": [
        "№ 4.2.2\n",
        "\n",
        "Определите максимальное и минимальное значения из двух различных целых чисел."
      ]
    },
    {
      "cell_type": "code",
      "metadata": {
        "colab": {
          "base_uri": "https://localhost:8080/"
        },
        "id": "YLIord2Pv1zi",
        "outputId": "215b36b8-d541-45b9-fb69-642e97ac55f5"
      },
      "source": [
        "# Программирование на языке высокого уровня (Python).\n",
        "# https://www.yuripetrov.ru/edu/python\n",
        "# Задание task_04_02_02.\n",
        "#\n",
        "# Выполнил: Сачкова Г.Г\n",
        "# Группа: АДЭУ211\n",
        "\n",
        "\n",
        "\n",
        "a1 = input(\"Введите первое число: \")\n",
        "a2 = input(\"Введите второе число: \")\n",
        "\n",
        "# Переменная 'a_min' должна содержать минимум, 'a_max' - максимум\n",
        "if a1 > a2:\n",
        "  print(\"Максимум:\", a1, \"Максимум:\", a2)\n",
        "\n",
        "else:\n",
        "  print(\"Максимум:\", a2, \"Максимум:\", a1)\n",
        "\n",
        "\n",
        "\n",
        "# --------------\n",
        "# Пример вывода:\n",
        "#\n",
        "# Введите первое число: 1\n",
        "# Введите второе число: 2\n",
        "# Максимум: 2, минимум: 1\n",
        "\n",
        "# Введите первое число: 5\n",
        "# Введите второе число: 5\n",
        "# Максимум: 5, минимум: 5\n",
        "\n",
        "# Введите первое число: 100\n",
        "# Введите второе число: -1\n",
        "# Максимум: 100, минимум: -1"
      ],
      "execution_count": null,
      "outputs": [
        {
          "output_type": "stream",
          "name": "stdout",
          "text": [
            "Введите первое число: 5\n",
            "Введите второе число: 5\n",
            "Максимум: 5 Максимум: 5\n"
          ]
        }
      ]
    },
    {
      "cell_type": "code",
      "metadata": {
        "id": "fDtXR7NW7R0a"
      },
      "source": [
        "# Программирование на языке высокого уровня (Python).\n",
        "# https://www.yuripetrov.ru/edu/python\n",
        "# Задание task_04_02_02.\n",
        "#\n",
        "# Выполнил: Сачкова Г.Г\n",
        "# Группа: АДЭУ211\n",
        "\n",
        "\n",
        "\n",
        "a1 = input('Введите первое число:')\n",
        "a2 = input('Введите второе число:')\n",
        "\n",
        "if a1 > a2:\n",
        "    a_max = a1\n",
        "    a_min = a2\n",
        "else:\n",
        "    a_max = a2\n",
        "    a_min = a1\n",
        "print('Максимум:', a_max, 'Минимум:', a_min)\n",
        "\n",
        "\n",
        "# --------------\n",
        "# Пример вывода:\n",
        "#\n",
        "# Введите первое число: 1\n",
        "# Введите второе число: 2\n",
        "# Максимум: 2, минимум: 1\n",
        "\n",
        "# Введите первое число: 5\n",
        "# Введите второе число: 5\n",
        "# Максимум: 5, минимум: 5\n",
        "\n",
        "# Введите первое число: 100\n",
        "# Введите второе число: -1\n",
        "# Максимум: 100, минимум: -1\n"
      ],
      "execution_count": null,
      "outputs": []
    },
    {
      "cell_type": "markdown",
      "metadata": {
        "id": "zPEya3J67sPd"
      },
      "source": [
        "№ 4.2.3\n",
        "\n",
        "Вася пытается высунуть голову в форточку размерами 𝑎\n",
        " и 𝑏\n",
        " см. Приняв условно, что его голова - круглая диаметром 𝑑\n",
        " см, определите, сможет ли Вася сделать это. Для прохождения головы в форточку необходим зазор в 1\n",
        " см. с каждой стороны.\n",
        "\n",
        "Все величины - целые числа.\n",
        "\n"
      ]
    },
    {
      "cell_type": "code",
      "metadata": {
        "colab": {
          "base_uri": "https://localhost:8080/"
        },
        "id": "AbITycWG7wBf",
        "outputId": "2b5dee5d-891c-4c4b-e633-a81663f476b9"
      },
      "source": [
        "# Программирование на языке высокого уровня (Python).\n",
        "# https://www.yuripetrov.ru/edu/python\n",
        "# Задание task_04_02_03.\n",
        "#\n",
        "# Выполнил: Сачкова Г.Г\n",
        "# Группа: АДЭУ211\n",
        "\n",
        "\n",
        "a = input(\"Ширина форточки: \")\n",
        "b = input(\"Высота форточки: \")\n",
        "d = input(\"Диаметр головы: \")\n",
        "\n",
        "\n",
        "# Введенные числа должны быть положительными, если так - осуществляем\n",
        "# расчет, иначе выводим \"Проверьте ввод\"\n",
        "\n",
        "while int(a) < 0:\n",
        "    print(\"Проверьте ввод\")\n",
        "    a = input(\"Ширина фороточки:\")\n",
        "    if int(a) > 0:\n",
        "        break\n",
        "\n",
        "while int(b) < 0:\n",
        "    print(\"Проверьте ввод\")\n",
        "    b = input(\"Высота форточки:\")\n",
        "    if int(b) > 0:\n",
        "        break\n",
        "\n",
        "while int(d) < 0:\n",
        "    print(\"Проверьте ввод\")\n",
        "    d = input(\"Диаметр головы:\")\n",
        "    if int(d) > 0:\n",
        "        break\n",
        "\n",
        "fix = 1 # Зазор\n",
        "if (int(a) + fix) > int(d):\n",
        "    if (int(b) + fix) > int(d):\n",
        "            print(\"Да\")\n",
        "    else:\n",
        "        print(\"Нет\")\n",
        "else:\n",
        "    print(\"Нет\")\n",
        "\n",
        "# --------------\n",
        "# Пример вывода:\n",
        "#\n",
        "# Ширина форточки: 5\n",
        "# Высота форточки: 6\n",
        "# Диаметр головы: 6\n",
        "# Нет\n",
        "\n",
        "# Ширина форточки: 6\n",
        "# Высота форточки: 7\n",
        "# Диаметр головы: 4\n",
        "# Да"
      ],
      "execution_count": null,
      "outputs": [
        {
          "output_type": "stream",
          "name": "stdout",
          "text": [
            "Ширина форточки: 6\n",
            "Высота форточки: 7\n",
            "Диаметр головы: 4\n",
            "Да\n"
          ]
        }
      ]
    },
    {
      "cell_type": "markdown",
      "metadata": {
        "id": "Z9p3VWscPVmd"
      },
      "source": [
        ""
      ]
    },
    {
      "cell_type": "markdown",
      "metadata": {
        "id": "EklBqboJKGEp"
      },
      "source": [
        "№ 4.2.4\n",
        "\n",
        "Известны год и номер месяца сегодняшнего дня, а также год и номер месяца рождения человека (нумерация месяцев с 1: январь - 1 и т.д.). Определите возраст человека (число полных лет)."
      ]
    },
    {
      "cell_type": "code",
      "metadata": {
        "id": "mSs1LVMJKFP4",
        "colab": {
          "base_uri": "https://localhost:8080/"
        },
        "outputId": "a788ee3e-20c7-4ca4-c0b4-40ccac568f02"
      },
      "source": [
        "# Программирование на языке высокого уровня (Python).\n",
        "# https://www.yuripetrov.ru/edu/python\n",
        "# Задание task_04_02_04.\n",
        "#\n",
        "# Выполнил: Сачкова Г.Г\n",
        "# Группа: АДЭУ211\n",
        "\n",
        "\n",
        "year_today = input(\"Введите текущий год:\")\n",
        "month_today = input(\"Введите текущий месяц:\")\n",
        "\n",
        "year = input(\"Введите год рождения:\")\n",
        "month = input(\"Введите месяц рождения:\")\n",
        "\n",
        "# Считается, введенные значения находятся в допустимых пределах,и\n",
        "# что 'month_today' >= 'month' (проверять значения не нужно)\n",
        "# Результат необходимо записать в переменную 'age'\n",
        "age = int(year_today) - int(year)\n",
        "if month_today<month:\n",
        "  age = age - 1\n",
        "\n",
        "# Удалите комментарий и допишите код\n",
        "\n",
        "print(\"Число полных лет: \", age)\n",
        "\n",
        "# --------------\n",
        "# Пример вывода:\n",
        "#\n",
        "# Введите текущий год: 2017\n",
        "# Введите текущий месяц: 5\n",
        "# Введите год рождения: 2000\n",
        "# Введите месяц рождения: 1\n",
        "# Число полных лет:  17\n",
        "#\n",
        "# Введите текущий год: 2015\n",
        "# Введите текущий месяц: 6\n",
        "# Введите год рождения: 2010\n",
        "# Введите месяц рождения: 8\n",
        "# Число полных лет:  4\n",
        "#\n",
        "# Введите текущий год: 2020\n",
        "# Введите текущий месяц: 5\n",
        "# Введите год рождения: 2000\n",
        "# Введите месяц рождения: 5\n",
        "# Число полных лет:  20\n"
      ],
      "execution_count": null,
      "outputs": [
        {
          "output_type": "stream",
          "name": "stdout",
          "text": [
            "Введите текущий год:2021\n",
            "Введите текущий месяц:9\n",
            "Введите год рождения:2002\n",
            "Введите месяц рождения:7\n",
            "Число полных лет:  19\n"
          ]
        }
      ]
    },
    {
      "cell_type": "markdown",
      "metadata": {
        "id": "CXdEodI-jco8"
      },
      "source": [
        "№ 4.2.5\n",
        "\n",
        "Дана точка с целыми ненулевыми координатами (𝑥;𝑦). Определить номер четверти координатной плоскости, которой она принадлежит.\n",
        "\n"
      ]
    },
    {
      "cell_type": "code",
      "metadata": {
        "id": "03K8cxOojlkn",
        "colab": {
          "base_uri": "https://localhost:8080/"
        },
        "outputId": "8d3c5871-69f5-41e8-8940-e803b492d38c"
      },
      "source": [
        "# Программирование на языке высокого уровня (Python).\n",
        "# https://www.yuripetrov.ru/edu/python\n",
        "# Задание task_04_02_05.\n",
        "#\n",
        "# Выполнил: Сачкова Г.Г\n",
        "# Группа: АДЭУ211\n",
        "\n",
        "\n",
        "x = int(input(\"Введите координату x: \"))\n",
        "y = int(input(\"Введите координату y: \"))\n",
        "\n",
        "if x == 0:\n",
        "  exit()\n",
        "elif y == 0:\n",
        "  exit()\n",
        "else: \n",
        "    if (x > 0 and y > 0):\n",
        "      print(\"1-я четверть\")\n",
        "    elif (x < 0 and y > 0):\n",
        "      print(\"2-я четверть\")\n",
        "    elif (x < 0 and y < 0):\n",
        "      print(\"3-я четверть\")\n",
        "    else:\n",
        "      print(\"4-я четверть\")\n",
        "  \n",
        "# --------------\n",
        "# Пример вывода:\n",
        "#\n",
        "# Введите координату x: 5\n",
        "# Введите координату y: 7\n",
        "# 1-я четверть\n"
      ],
      "execution_count": null,
      "outputs": [
        {
          "name": "stdout",
          "output_type": "stream",
          "text": [
            "Введите координату x: 0\n",
            "Введите координату y: 4\n"
          ]
        }
      ]
    },
    {
      "cell_type": "markdown",
      "metadata": {
        "id": "FHe1pE3qoN4g"
      },
      "source": [
        "№ 4.2.6\n",
        "\n",
        "Даны вещественные числа 𝑎\n",
        ", 𝑏\n",
        ", 𝑐\n",
        " (𝑎≠0\n",
        ").\n",
        "\n",
        "Решите уравнение 𝑎𝑥^2+𝑏𝑥+𝑐=0\n",
        ". При выводе значений оставьте 1 знак после запятой.\n",
        "\n"
      ]
    },
    {
      "cell_type": "code",
      "metadata": {
        "colab": {
          "base_uri": "https://localhost:8080/"
        },
        "id": "jlDSnVqAqI9n",
        "outputId": "8389f382-b73d-4554-9670-8a285305020a"
      },
      "source": [
        "# Программирование на языке высокого уровня (Python).\n",
        "# https://www.yuripetrov.ru/edu/python\n",
        "# Задание task_04_02_06.\n",
        "#\n",
        "# Выполнил: Сачкова Г.Г\n",
        "# Группа: АДЭУ211\n",
        "\n",
        "\n",
        "a = float(input(\"a = \"))\n",
        "b = float(input(\"b = \"))\n",
        "c = float(input(\"c = \"))\n",
        "\n",
        "if a == 0:\n",
        "  exit()\n",
        "else: \n",
        "# Расчет дискриминанта\n",
        "  D = b ** 2 - 4 * a * c\n",
        "\n",
        "# Вывод решения в зависимости от значения дискриминанта\n",
        "  if D < 0:\n",
        "    print(\"Нет решений\")\n",
        "  elif D == 0:\n",
        "    x = (-b) / 2 * a\n",
        "    print(\"x =\", (\"%.1f\" % x))\n",
        "  else: \n",
        "    x1 = (-b - pow(D, 1/2)) / 2 * a\n",
        "    x2 = (-b + pow(D, 1/2)) / 2 * a\n",
        "    print(\"x1 =\", (\"%.1f\" % x1), \"x2 =\", (\"%.1f\" % x2))\n",
        "# При выводе значений оставьте 1 знак после запятой\n",
        "\n",
        "\n",
        "# --------------\n",
        "# Пример вывода:\n",
        "#\n",
        "# a = 1\n",
        "# b = 2\n",
        "# c = 3\n",
        "# Решений нет\n",
        "#\n",
        "# a = 1\n",
        "# b = 2\n",
        "# c = 1\n",
        "# x = -1.0\n",
        "#\n",
        "# a = 1\n",
        "# b = 3\n",
        "# c = -4\n",
        "# x1 = -4.0, x2 = 1.0\n"
      ],
      "execution_count": null,
      "outputs": [
        {
          "output_type": "stream",
          "name": "stdout",
          "text": [
            "a = 1\n",
            "b = 3\n",
            "c = -4\n",
            "x1 = -4.0 x2 = 1.0\n"
          ]
        }
      ]
    },
    {
      "cell_type": "markdown",
      "metadata": {
        "id": "D2uRfPmLw5uv"
      },
      "source": [
        "№ 4.2.7\n",
        "\n",
        "Дана непустая последовательность целых чисел, оканчивающаяся нулем. Найти сумму и количество введенных чисел."
      ]
    },
    {
      "cell_type": "code",
      "metadata": {
        "colab": {
          "base_uri": "https://localhost:8080/"
        },
        "id": "XYGWStVLw_25",
        "outputId": "1473c44c-bac5-4e61-a165-7fe06daeb4e6"
      },
      "source": [
        "# Программирование на языке высокого уровня (Python).\n",
        "# https://www.yuripetrov.ru/edu/python\n",
        "# Задание task_04_02_07.\n",
        "#\n",
        "# Выполнил: Сачкова Г.Г\n",
        "# Группа: АДЭУ211\n",
        "\n",
        "\n",
        "nums_sum = 0  # сумма\n",
        "nums_count = 0  # количество\n",
        "\n",
        "x = 1\n",
        "while x != 0:\n",
        "    x = int(input(\"Введите {}-е число:\".format(nums_count + 1)))\n",
        "    nums_count = nums_count + 1\n",
        "    nums_sum = nums_sum + x\n",
        "print(\"Сумма =\", nums_sum)\n",
        "print(\"Количество =\", nums_count - 1)\n",
        "# --------------\n",
        "# Пример вывода:\n",
        "#\n",
        "# Введите 1-е число: 1\n",
        "# Введите 2-е число: 2\n",
        "# Введите 3-е число: 3\n",
        "# Введите 4-е число: 4\n",
        "# Введите 5-е число: 0\n",
        "# Сумма = 10\n",
        "# Количество = 4\n",
        "#\n",
        "# Введите 1-е число: 0\n",
        "# Сумма = 0\n",
        "# Количество = 0\n"
      ],
      "execution_count": null,
      "outputs": [
        {
          "output_type": "stream",
          "name": "stdout",
          "text": [
            "Введите 1-е число:0\n",
            "Сумма = 0\n",
            "Количество = 0\n"
          ]
        }
      ]
    },
    {
      "cell_type": "markdown",
      "metadata": {
        "id": "RftkgPmCDMZq"
      },
      "source": [
        "№ 4.2.8\n",
        "\n",
        "Дано число 𝑛\n",
        ". Из чисел 0,5,10,15,20,25,...\n",
        " напечатать те, которые не превышают 𝑛"
      ]
    },
    {
      "cell_type": "code",
      "metadata": {
        "id": "M4RvLABJDkM0",
        "colab": {
          "base_uri": "https://localhost:8080/"
        },
        "outputId": "e3879109-0db1-4d59-dceb-961ab699e4c6"
      },
      "source": [
        "# Программирование на языке высокого уровня (Python).\n",
        "# https://www.yuripetrov.ru/edu/python\n",
        "# Задание task_04_02_08.\n",
        "#\n",
        "# Выполнил: Сачкова Г.Г\n",
        "# Группа: АДЭУ211\n",
        "\n",
        "\n",
        "n = int(input('n ='))\n",
        "\n",
        "x = 0\n",
        "\n",
        "while x <= n:\n",
        "    print(x)\n",
        "    x = x + 5\n",
        "    \n",
        "  \n",
        "\n",
        "# --------------\n",
        "# Пример вывода:\n",
        "#\n",
        "# n = 0\n",
        "# 0\n",
        "#\n",
        "# n = 10\n",
        "# 0\n",
        "# 5\n",
        "# 10\n",
        "#\n",
        "# n = 12\n",
        "# 0\n",
        "# 5\n",
        "# 10"
      ],
      "execution_count": null,
      "outputs": [
        {
          "output_type": "stream",
          "name": "stdout",
          "text": [
            "n =10\n",
            "0\n",
            "5\n",
            "10\n"
          ]
        }
      ]
    },
    {
      "cell_type": "markdown",
      "metadata": {
        "id": "CKh0VrzWEftM"
      },
      "source": [
        "№ 4.2.9\n",
        "\n",
        "Дано вещественное число a. Найдите наименьшее натуральное 𝑛\n",
        ", для которого верно\n",
        "![Снимок экрана 2021-09-24 в 16.53.16.png](data:image/png;base64,iVBORw0KGgoAAAANSUhEUgAAA1gAAADECAYAAACC04ANAAAMaWlDQ1BJQ0MgUHJvZmlsZQAASImVVwdYU8kWnluSkJDQAhGQEnoTpFcpIbQIAlIFGyEJJJQYEoKKHV1UcO0iihVdFVFwdQVkLYi9LIq9LxZUlHVRF0VReZMCuu4r35vvO3f+e+bMf0pmcmcA0O7jSiR5qA4A+eJCaUJkKHNcWjqT1AlIQB8AoAVGcnkyCSs+Pga+gcH+7+3dDYAo+qvOCq5/jv/XpscXyHgAIBMgzuTLePkQtwCAb+BJpIUAEBV6q6mFEgWeC7G+FAYI8WoFzlbhXQqcqcKHlTZJCWyILwOgQeVypdkwkXtQzyziZUMerU8Qu4r5IjEA2iMgDuIJuXyIFbGPyM+fosCVENtDewnEMB7gm/kNZ/bf+DOH+Lnc7CGsykvZNMJEMkked/r/WZr/3fLz5IM+bKFQhdKoBEX+sIa3cqdEKzAV4m5xZmycotYQ94n4qroDgFKE8qhklT1qwpOxYf0AA2JXPjcsGmITiCPEebExan1mliiCAzFcLeg0USEnCWJDiBcJZOGJapst0ikJal9oQ5aUzVLrz3KlSr8KXw/kucksNf8boYCj5se0ioVJqRBTILYuEqXEAsUKBJiLLDcxWm0zqljIjh20kcoTFPFbQ5wgEEeGqvixoixpRILavixfNpgvtkUo4sSq8f5CYVKUqj7YSR5XGT/MBbssELOSB3kEsnExg7nwBWHhqtyx5wJxcqKap09SGJqgmotTJHnxanvcUpAXqdBbQuwpK0pUz8VTCuHiVPHjWZLC+CRVnHhxDnd0vCoefDmIAWwQBphADiUTTAE5QNTW3dgN31QjEYALpCAbCICzWjM4I1U5IobPRFAM/oBIAGRD80KVowJQBPWfh7SqpzPIUo4WKWfkgqcQ54NokAff5cpZ4iFvKeAJ1Ij+4Z0LhQfjzYOiGP/3+kHtVw0LamLUGvmgR6b2oCUxnBhGjCJGEB1wYzwID8Bj4DMEijvui/sN5vHVnvCU0E54RLhO6CDcniwqkX4X5RjQAfkj1LXI/LYWuC3k9MJD8UDIDplxBm4MnHFP6IeFB0PPXlDLVsetqArzO+6/ZfDNr6G2I7uSUfIwcgjZ/vuZWo5aXkMsilp/Wx9VrJlD9WYPjXzvn/1N9fmwj/7eEluEHcDOYMexc9hhrBEwsWNYE3YRO6LAQ6vriXJ1DXpLUMaTC3lE//DHVftUVFLmWuva5fpJNVYomFao2HjsKZLpUlG2sJDJgl8HAZMj5rmMYLq7ursBoPjWqP6+3jKU3xCEcf6rbuE2AIIrBgYGDn3VRdIB2L8Zbv/6rzp72NMuAHD2FE8uLVLpcMWDAP8ltOFOMwJmwArYw3zcgTcIACEgHIwGcSAJpIFJsMpCuM6lYCqYCeaBUlAOloM1YD3YDLaBXWAv2A8awWFwHJwGF8BlcB3chaunE7wEPeAd6EcQhITQEDpihJgjNogT4o74IkFIOBKDJCBpSAaSjYgROTITmY+UIyuR9chWpAb5GTmEHEfOIe3IbeQh0oW8QT6iGEpF9VFT1BYdifqiLDQaTUInotloAVqMLkCXopVoNboHbUCPoxfQ62gH+hLtxQCmiTEwC8wZ88XYWByWjmVhUmw2VoZVYNVYHdYMf+erWAfWjX3AiTgdZ+LOcAVH4ck4Dy/AZ+NL8PX4LrwBP4lfxR/iPfgXAo1gQnAi+BM4hHGEbMJUQimhgrCDcJBwCu6lTsI7IpHIINoRfeBeTCPmEGcQlxA3EuuJLcR24mNiL4lEMiI5kQJJcSQuqZBUSlpH2kM6RrpC6iT1aWhqmGu4a0RopGuINUo0KjR2axzVuKLxTKOfrEO2IfuT48h88nTyMvJ2cjP5ErmT3E/RpdhRAilJlBzKPEolpY5yinKP8lZTU9NS009zrKZIc65mpeY+zbOaDzU/UPWojlQ2dQJVTl1K3Ultod6mvqXRaLa0EFo6rZC2lFZDO0F7QOvTomu5aHG0+FpztKq0GrSuaL3SJmvbaLO0J2kXa1doH9C+pN2tQ9ax1WHrcHVm61TpHNK5qdOrS9d1043Tzdddortb95zucz2Snq1euB5fb4HeNr0Teo/pGN2Kzqbz6PPp2+mn6J36RH07fY5+jn65/l79Nv0eAz0DT4MUg2kGVQZHDDoYGMOWwWHkMZYx9jNuMD4OMx3GGiYYtnhY3bArw94bDjcMMRQYlhnWG143/GjENAo3yjVaYdRodN8YN3Y0Hms81XiT8Snj7uH6wwOG84aXDd8//I4JauJokmAyw2SbyUWTXlMz00hTiek60xOm3WYMsxCzHLPVZkfNuszp5kHmIvPV5sfMXzANmCxmHrOSeZLZY2FiEWUht9hq0WbRb2lnmWxZYllved+KYuVrlWW12qrVqsfa3HqM9UzrWus7NmQbXxuhzVqbMzbvbe1sU20X2jbaPrcztOPYFdvV2t2zp9kH2xfYV9tfcyA6+DrkOmx0uOyIOno5Ch2rHC85oU7eTiKnjU7tIwgj/EaIR1SPuOlMdWY5FznXOj90YbjEuJS4NLq8Gmk9Mn3kipFnRn5x9XLNc93uetdNz220W4lbs9sbd0d3nnuV+zUPmkeExxyPJo/Xnk6eAs9Nnre86F5jvBZ6tXp99vbxlnrXeXf5WPtk+Gzwuemr7xvvu8T3rB/BL9Rvjt9hvw/+3v6F/vv9/wxwDsgN2B3wfJTdKMGo7aMeB1oGcgO3BnYEMYMygrYEdQRbBHODq4MfhViF8EN2hDxjObByWHtYr0JdQ6WhB0Pfs/3Zs9gtYVhYZFhZWFu4Xnhy+PrwBxGWEdkRtRE9kV6RMyJboghR0VErom5yTDk8Tg2nZ7TP6FmjT0ZToxOj10c/inGMkcY0j0HHjB6zasy9WJtYcWxjHIjjxK2Kux9vF18Q/+tY4tj4sVVjnya4JcxMOJNIT5ycuDvxXVJo0rKku8n2yfLk1hTtlAkpNSnvU8NSV6Z2jBs5bta4C2nGaaK0pnRSekr6jvTe8eHj14zvnOA1oXTCjYl2E6dNPDfJeFLepCOTtSdzJx/IIGSkZuzO+MSN41ZzezM5mRsye3hs3lreS34IfzW/SxAoWCl4lhWYtTLreXZg9qrsLmGwsELYLWKL1ote50TlbM55nxuXuzN3IC81rz5fIz8j/5BYT5wrPjnFbMq0Ke0SJ0mppKPAv2BNQY80WrpDhsgmypoK9eGh/qLcXv6D/GFRUFFVUd/UlKkHpulOE0+7ON1x+uLpz4ojin+agc/gzWidaTFz3syHs1izts5GZmfObp1jNWfBnM65kXN3zaPMy533W4lrycqSv+anzm9eYLpg7oLHP0T+UFuqVSotvbkwYOHmRfgi0aK2xR6L1y3+UsYvO1/uWl5R/mkJb8n5H91+rPxxYGnW0rZl3ss2LScuFy+/sSJ4xa6VuiuLVz5eNWZVw2rm6rLVf62ZvOZchWfF5rWUtfK1HZUxlU3rrNctX/dpvXD99arQqvoNJhsWb3i/kb/xyqaQTXWbTTeXb/64RbTl1tbIrQ3VttUV24jbirY93Z6y/cxPvj/V7DDeUb7j807xzo5dCbtO1vjU1Ow22b2sFq2V13btmbDn8t6wvU11znVb6xn15fvAPvm+Fz9n/Hxjf/T+1gO+B+p+sfllw0H6wbIGpGF6Q0+jsLGjKa2p/dDoQ63NAc0Hf3X5dedhi8NVRwyOLDtKObrg6MCx4mO9LZKW7uPZxx+3Tm69e2LciWsnx55sOxV96uzpiNMnzrDOHDsbePbwOf9zh877nm+84H2h4aLXxYO/ef12sM27reGSz6Wmy36Xm9tHtR+9Enzl+NWwq6evca5duB57vf1G8o1bNyfc7LjFv/X8dt7t13eK7vTfnXuPcK/svs79igcmD6p/d/i9vsO748jDsIcXHyU+uvuY9/jlE9mTT50LntKeVjwzf1bz3P354a6Irssvxr/ofCl52d9d+ofuHxte2b/65c+QPy/2jOvpfC19PfBmyVujtzv/8vyrtTe+98G7/Hf978v6jPp2ffD9cOZj6sdn/VM/kT5Vfnb43Pwl+su9gfyBAQlXylUeBTAoaFYWAG92wnNCGgB0eG+jjFfdBZUNUd1flQj8J6y6LyqbNwB1sFMc40NaADgAxRYKDb4rjvBJIQD18BgSdZNlebiruKjwJkToGxh4awoAqRmAz9KBgf6NAwOft8NgbwPQUqC6gyoaEd4Ztig5rjAKFoPvmup++k2O3/dAEYEn+L7/Fw9+j2HDHOtcAAAAlmVYSWZNTQAqAAAACAAFARIAAwAAAAEAAQAAARoABQAAAAEAAABKARsABQAAAAEAAABSASgAAwAAAAEAAgAAh2kABAAAAAEAAABaAAAAAAAAAJAAAAABAAAAkAAAAAEAA5KGAAcAAAASAAAAhKACAAQAAAABAAADWKADAAQAAAABAAAAxAAAAABBU0NJSQAAAFNjcmVlbnNob3RgnAPsAAAACXBIWXMAABYlAAAWJQFJUiTwAAACdWlUWHRYTUw6Y29tLmFkb2JlLnhtcAAAAAAAPHg6eG1wbWV0YSB4bWxuczp4PSJhZG9iZTpuczptZXRhLyIgeDp4bXB0az0iWE1QIENvcmUgNi4wLjAiPgogICA8cmRmOlJERiB4bWxuczpyZGY9Imh0dHA6Ly93d3cudzMub3JnLzE5OTkvMDIvMjItcmRmLXN5bnRheC1ucyMiPgogICAgICA8cmRmOkRlc2NyaXB0aW9uIHJkZjphYm91dD0iIgogICAgICAgICAgICB4bWxuczpleGlmPSJodHRwOi8vbnMuYWRvYmUuY29tL2V4aWYvMS4wLyIKICAgICAgICAgICAgeG1sbnM6dGlmZj0iaHR0cDovL25zLmFkb2JlLmNvbS90aWZmLzEuMC8iPgogICAgICAgICA8ZXhpZjpVc2VyQ29tbWVudD5TY3JlZW5zaG90PC9leGlmOlVzZXJDb21tZW50PgogICAgICAgICA8ZXhpZjpQaXhlbFlEaW1lbnNpb24+MTgwMDwvZXhpZjpQaXhlbFlEaW1lbnNpb24+CiAgICAgICAgIDxleGlmOlBpeGVsWERpbWVuc2lvbj4yODgwPC9leGlmOlBpeGVsWERpbWVuc2lvbj4KICAgICAgICAgPHRpZmY6T3JpZW50YXRpb24+MTwvdGlmZjpPcmllbnRhdGlvbj4KICAgICAgICAgPHRpZmY6UmVzb2x1dGlvblVuaXQ+MjwvdGlmZjpSZXNvbHV0aW9uVW5pdD4KICAgICAgPC9yZGY6RGVzY3JpcHRpb24+CiAgIDwvcmRmOlJERj4KPC94OnhtcG1ldGE+CndT534AACTmSURBVHgB7d0JtF3T/TjwbQgS8TNTsxjSmpUqRc0UjUVZNURbQ6OtqhqXUmPRgbIISlfUmNKKqTWUmhLRUNRYkhISEfMUQ4wN+fuef+9z7333xX1599zc+85nr/W8M+5z9mcfL/d79z57zzZt2rTpSSJAgAABAgQIECBAgACBHgvM3uMcZECAAAECBAgQIECAAAECmYAAy4NAgAABAgQIECBAgACBBgkIsBoEKRsCBAgQIECAAAECBAgIsDwDBAgQIECAAAECBAgQaJCAAKtBkLIhQIAAAQIECBAgQICAAMszQIAAAQIECBAgQIAAgQYJCLAaBCkbAgQIECBAgAABAgQICLA8AwQIECBAgAABAgQIEGiQgACrQZCyIUCAAAECBAgQIECAgADLM0CAAAECBAgQIECAAIEGCQiwGgQpGwIECBAgQIAAAQIECAiwPAMECBAgQIAAAQIECBBokIAAq0GQsiFAgAABAgQIECBAgIAAyzNAgAABAgQIECBAgACBBgkIsBoEKRsCBAgQIECAAAECBAgIsDwDBAgQIECAAAECBAgQaJCAAKtBkLIhQIAAAQIECBAgQICAAMszQIAAAQIECBAgQIAAgQYJCLAaBCkbAgQIECBAgAABAgQICLA8AwQIECBAgAABAgQIEGiQgACrQZCyIUCAAAECBAgQIECAgADLM0CgxQSmTp3aYndUrNvhX6z6brfSej7brcbcLwECRRQQYBWx1pW5JQXGjx+fjjnmmLTTTjulcePGteQ99uab4t+ba7f9y+b5bP86VAICBIojMGdxiqqkBFpTYMKECemSSy5JY8aM6bjB6dOndyxbyFeAf76+cu+ZgOezZ37OJkCAwKwQEGDNCnXXJPCpwKRJk9Kll16aRo8enQRUzX8k+Dff3BXrF/B81m/lSAIECLSagACr1WrE/fR6gcmTJ6fhw4enkSNHCqxmQW3znwXoLlm3gOezbioHEiBAoGUFBFgtWzVurDcKxAvqQ4YMSX379k1bbbVVFmDde++96Z133umNxW25MvFvuSpxQ2UCns8yDIsECBBoYwEBVhtXnltvP4H+/funs88+Ow0YMCD16dMnK8CwYcPSiBEj2q8wbXjH/Nuw0gp0y57PAlW2ohIg0KsFBFi9unoVrhUFBg4cWHFbEWxJzRPg3zxrV+q+gOez+2bOIECAQKsJGKa91WrE/RROYO655y5cmVupwPxbqTbcS7WA57NaxDoBAgRaX0CA1fp15A4JECBAgAABAgQIEGgTAQFWm1SU2yRAgAABAgQIECBAoPUFBFitX0fukAABAgQIECBAgACBNhEQYLVJRblNAgQIECBAgAABAgRaX0CA1fp15A4JECBAgAABAgQIEGgTAQFWm1SU2yRAgAABAgQIECBAoPUFBFitX0fukAABAgQIECBAgACBNhEQYLVJRblNAgQIECBAgAABAgRaX0CA1fp15A4JECBAgAABAgQIEGgTAQFWm1SU2yRAgAABAgQIECBAoPUFBFitX0fukAABAgQIECBAgACBNhEQYLVJRblNAgQIECBAgAABAgRaX0CA1fp15A4JECBAgAABAgQIEGgTAQFWm1SU2yRAgAABAgQIECBAoPUFBFitX0fukAABAgQIECBAgACBNhEQYLVJRblNAgQIECBAgAABAgRaX0CA1fp15A4JECBAgAABAgQIEGgTAQFWm1SU2yRAgAABAgQIECBAoPUFBFitX0fukAABAgQIECBAgACBNhEQYLVJRbnN3iswderU3lu4NigZ/zaopALfouezwJWv6AQItK2AAKttq86N9xaB5557rlNRpkyZ0mmbDfkI8M/HVa6NEfB8NsZRLgQIEGimgACrmdquRaBKID48XX/99VVbU7rttts6bbOh8QL8G28qx8YJeD4bZyknAgQINFNgtmnTpk1v5gVdi0DRBcaOHZvGjx+fnnjiiXTHHXekT/8frEmyyiqrpM022ywtuuiiadlll03LL798zeNs7J4A/+55Obq5Ap7P5nq7GgECBPIQEGDlodrL84x3Avr379/LS5lf8Q4++OD02GOPdesCEWgdc8wx3TrHwbUF+Nd2sbU1BDyfrVEP7oIAAQI9ERBg9USvYOdGq8sll1yS/vnPf6azzz47RQuLRIAAAQIECBAgQIDAZwJzfrZoiUBtgQkTJmSB1ZgxYzoOmD5dz9IODAsECBAgQIAAAQIE/icgwPIodCkwadKkdOmll6bRo0cnAVWXTHYQIECAAAECBAgQ6BAQYHVQWCgJTJ48OQ0fPjyNHDlSYFVC8ZsAAQIECBAgQIBAHQICrDqQinRIDGAxZMiQ1Ldv37TVVltlAda9996b3nnnnSIxKCsBAgQIECBAgACBmRIQYM0UW+89KUYHjAEsBgwYkPr06ZMVdNiwYWnEiBEtXej33nsvffzxx9k9zjHHHKlfv34tfb+97eb4N7ZGeTbWc2ZyUwczo+YcAgQIEAgBAZbnoJPAwIEDK7ZFsNXq6cc//nGKSTkjrbbaamno0KGtfsu96v74N7Y6eTbWc2ZyUwf1qUWX8vhyyzx99Xk5igCBYggIsIpRzz0q5dxzz92j851MgAABAr1TIAZCGjVqVNp4443Td77znbTiiiv2zoIqFQECBLohIMDqBpZDCRAgQIAAgc8EYoTZ+Lnrrruynw022CDtueee5kn8jMgSAQIFFBBgFbDSFZkAAQIECOQhEBPRx8+6666btWitscYaeVxGngQIEGhpAQFWS1ePmyNAgAABAq0rMHjw4PTRRx+lu+++u+ImH3jggRQ/a665ZhZorbPOOhX7220lWuneeOONNN9886W55pqr3W7f/RIg0GQBAVaTwV2OAAECBAj0FoEVVlghnXjiienpp5/OJqYfM2ZMRdEeffTRdMQRR2RdBuMdrfXXX79ifyuvxEiS1113Xdb1cdKkSemDDz7IRtddddVV07777pvuu+++ituPqU2WWWaZim1WCBAopoAAq5j1rtQECBAgQKBhAjG4xS9+8Yss0IqJ6iPQilafUho3blw6+uij00orrZS1aG200UZpttlmK+1uud9XX311+uMf/1gxB+Q888yTPvnkk/TII4+kgw46qNM9b7755p222UCAQDEFBFjFrHelJkCAAAECDReIQOuEE05IEyZMSBFo/eMf/6gItJ566qlsfwzrHoNhbLbZZi0VaL3//vvp1FNPzVqtSjjR6rbbbrul1VdfPb377rvpkEMOSc8880xpd/Z7oYUWMlR9hYgVAsUWmL3YxVd6AgQIECBAoNEC0XXw+OOPTzFR/SabbNIpiIoA5Ze//GXaZ5990i233NIxUXyj76M7+UWXwEMPPbQiuNpxxx3TySefnL1LNvvss2fvYG2xxRadsv3yl7/caZsNBAgUV0CAVdy6V3ICBAgQIJCrQExUf9xxx6Xzzz8/bbrppp0CrZggPlqM9tprr3TjjTemadOm5Xo/XWUe142Wt/Hjx3ccsvPOO6cDDzyw0z0vvfTSHceUFgRYJQm/CRAIAQGW54AAAQIECBDIVSC6BB577LFdBlovvfRSOuOMM9J3v/vd9Je//CUbmTDXG6rK/JxzzkkPPvhgx9YIDPfbb7+O9fKFhRdeuHw1W273URI7FcgGAgR6JCDA6hGfkwkQIECAAIF6BcoDrVrvX7366qspgp0YcXDEiBHZyH315j2zx8Vw8jfccEPH6XPOOWc66qijshEDOzaWLbz11ltlaykttdRSabHFFqvYZoUAgWILzPZps/hnw/wU20LpuxAYPXp0Ngxv+e6zzjorxVC1eaQYeeqwww5LL774Yt3Zx/wkH3/8cXZ8/OO44IIL1n1ujAx10UUX1X18bz+Qf2NrmGdjPWcmN3UwM2rNOSeGP4/R+kaNGlUxGEbp6vPPP3/aZZdd0k477ZT69etX2tyw3zH0+ve///308ssvd+Q5aNCgdPDBB3esVy9cccUVWUtcafsOO+xQc1TB0n6/CRAonoBRBItX5y1f4ugLH3OnzGyK8+Nb0HpT37596z20ruPipe6JEyfWdWyjDvriF7+Y9t5774Zk1+7+gXDBBRekGK2smSmGn44PatWpN3hWl6nd1lutDm6//fZ02223NZVxjjnmyAZraOpF67jYcsstlw3fHl0DL7744hRf6JWnaC268MILs9asM888s+Ej9V1//fUVwVU47b777uW30Gl57NixFdt0D6zgsEKAwKcCAiyPAYEGC8R8L//+978bnKvsuiMQdfDwww9355QeH1tqQe1xRjLo9QLPP/98uv/++5tazmjZb9UUAfBjjz2WnnzyyS5vMb7AmHfeebvcPzM7/vvf/6Yrr7yy4tQYIfALX/hCxbbylY8++qjiC8CYy2vttdcuP8QyAQIEBFiegdYTiH+wuvuN4OOPP54+/PDDjsJ05/xFF12047xGLAwcODDFt6DNTPHho1Gp3f3DYeWVV24UR935dFUHvcGzboQWPbDV6iA+wDf7Q3mz/ybV8yhEYHXzzTenP/3pTxWtSOXnxhxUMV9WHl3SR44cmaJ7eXnaeuuty1c7Ld95550Vkw/H35r55puv03E2ECBQbAHvYBW7/usqfbPfwarrpqoOiu5xMdxvpNVWWy0NHTq06gireQrwb6wuz8Z6zkxu6mBm1Oo7JwKrm266KQusXnnllU4nRUC88cYbZ4FVV19cdDppJjbEPF1jxozpODMCpauuumqGX5DFu1nR2lZK0Z1wyJAhpVW/CRAgkAm0bp8BFUSAAAECBAj0GoFSYHX55ZfXfE82JvLdfPPN0+DBg1O8m5Vniq5+//rXvyouEa1lM2rpe+KJJyqCqzjZ/FcVhFYIEPifgADLo0CAAAECBAjkJhDvOpVarGoNQBTvh22zzTbZ4BJLLrlkbvdRnvHkyZMrupXHvhVXXLH8kIrlCA5PP/30im19+vRJq6++esU2KwQIEAgBAZbngAABAgQIEGi4QARWf/vb39Kf//znmi1Wc801V9p+++3Tbrvtlhr9LuznFaZ8WPbSsTMa3CLeE5swYULp0Ox3dEefe+65K7ZZIUCAQAgIsDwHBAgQKIhAjHQY39wvsMAC2U+jip1Hvnnk2ajyymfGAtH9rhRYvfbaa50OjqkxYu6ob3/7292as7BTRj3Y8Oabb3Y6OwK+WilGfLzssss67SoNpvT6669nw8jHNA1d5dHpZBsIEOjVAgKsXl29jSnc1KlTG5ORXAgQmGUCMS/Ysccem7UkxHsmX//619ORRx6Zejp8dx755pHnLIMv0IUjsLrxxhuzFqsIOqpT//7907e+9a208847z/KR92oN+R7vWMV7WOUp5is77bTTUnQRrE7x/lWMXnvcccelp59+OivX4osvXn2YdQIECiggwCpgpXe3yKXR+crPmzJlSvmqZQIEWlwgJmktvf8SrUOjRo3KhrOP7lk9SXnkm0eePSmjc2csEIHVDTfckAVW1cOex5nRYrrLLrukHXfcMfXr12/GmTVp7yKLLNLpSldccUWKUQu/9rWvpRdffDFdc8016a9//WuaPn16WmqppVLMX1ae4t/Gc889N0Vgtv/++yfBVbmOZQLFFhBgFbv+P7f08Q9IzHRfneJbvY022qh6s3UCBFpUoNYkrtFdsKcpj3zzyLOn5XR+bYGYS+q8887rNJ9UHL3wwgunXXfdNQ0aNKjl3lWKQCpa1Mp7aJRao6pLGmWIbo2XXHJJxa5TTjklW48BOiKAlAgQIFASEGCVJPzuEBg7dmwaP3589q3cHXfcUbNrxF133ZUOPPDAtNlmm2UvJy+77LJp+eWX78jDAgECrSUQ367Ht/LlKYbF7mnKI9888uxpOZ1fWyDmkaputYrBIqJldNttt00x0l4rphicYrvttktXXnlll7cXx+y7775Z8HTLLbfUPC6GlT/88MNr7rORAIHiCgiwilv3XZZ82LBhneb6qHXwuHHjUvxEikDrmGOOqXWYbXUIxDen0c0mJrqUmi8Q71e89957mX9MctobU0yIesYZZ3QULd5BiUEGepryyDePPHtaTud/vsAyyyyT9thjj7TlllvOcD6pz8+pOUfEoBQxmuDo0aMrLhhfPKy33nrpRz/6UYoyRYoRA+PdxeheGykGs9hvv/3STjvtlHrr34ysoP5DgMBMCQiwZoqtd58U7z9I+QrEyFp///vfsxejY+jf6Nsf/fzjG9PFFlssbbDBBmnrrbdOK6ywQr43UtDcwzrm5XnggQfSxIkTM//44BQDPoR/vIMRw0fnPdlpM/m/+c1vZu9cPfjgg9lzFoNc1HoPpbv3lEe+eeTZ3XI5vn6B+Du15557pk022aStgo34/z0Gfpk0aVJ6/PHH0wcffJD9P7HWWmt1GmUz3sE6++yz06OPPpq9axUDXEQXQ4kAAQK1BARYtVRsazuBVVZZpaMvfav/o3frrbem3/3udx33W44dLVnxXkz8XHXVVdm3o/EtaasP/dtO/tHqOnTo0BQj1VWnaMl64YUX0tVXX529tB+jg1WPKlZ9Th7reXkOHDgwxU+jUx755pFnd8qdVx105x7a4dif/vSnbd3yG61Py3/avT1+Pi/N6mfy8+7PfgIEWkdgtk8/UExvndtxJwR6r8Ann3ySTjrppBTvr3Unrbrqqun0009v2XcZulOWWX3sPffckw2pHC1Y9aToEhTvV0RrokSAAAECBAgQqEdAgFWPkmMINEBgxIgRKd5vq07xDernfeCP7mqHHnpo9anWuyHw7LPPpp/85CfZu1Zx2sorr5x1aYrWwfiJVsPoNvj+++9X5Br1c+mll6YllliiYrsVAgQIECBAgEAtAQFWLRXbCDRYID68//CHP8wGsoisN91002yUrXiBOj7cx+huMVFlDAMcgUCtdOGFF6YYrVHqvkC0HsYL7VEP0YX0iCOOSBtuuGGnjGI0tBNPPLHTIC+DBw/ORhPrdIINBAgQIECAAIEqgdmr1q0SIJCDwDnnnJMFV9EaEi9Vx0/054+5VaIb2tJLL50FXdHCFR/ma6Xrrruu1mbb6hC4++67s+AqJjyN7pa1gqvIZqGFFkpHHnlkVi/l2cZAGBIBAgQIECBAoB4BAVY9So4h0AOBt99+Oz300ENZDjHSVrRedZViVKuYd2WdddbpdEiMciXNnMA111yTjW4WUwmsuOKKM8wk5vCJEcLK05QpU8pXLRMgQIAAAQIEuhQQYHVJYweBxgjcd999KbqoxZDfe+21V12ZHnzwwZ2GO37ppZfqOtdBlQIxz00MrbzDDjuktddeu3JnF2uluW9Ku2OIZokAAQIECBAgUI+AYdrrUXIMgR4IxMh1kWICzugiWE9acsklU7SkxLtZpfTOO+9kg2HUm0fpvKL/jnmtLrroomx+q3otYtLn8rT66quXr1omQIAAAQIECHQpoAWrSxo7CDRGYOrUqSlaRLbYYotuZVg9oEW8HyS46hZhdnCYhX9M4lxvismfSynekavVZbO0328CBAgQIECAQLmAFqxyDcsEchA45ZRTZirX+eefv+K8xRdfvGLdSj4CkyZNyroUlnL/3ve+l3QRLGn4PSsEokV19tlnT/GOZq0UE2S/9dZb2SAtvoSpJWQbAQIEmitQ+691c+/B1QgQqCEQQ4aXpwEDBpSvWs5BIN6VO/fcczvmJdtoo426HNUxh8vLssACH3/8cXrhhRfS888/n/0899xzHcuvvPJKGjRoUDrooIMqhMaMGZOuvfbaNG7cuPThhx9mUxAccsghMxxIpyIDKwQIECCQi4AAKxdWmRLouUB8qCpPW2+9dfmq5QYLxAfcs846Kz3wwANZzvvss08WXGkRaDC07GoKPPnkk+nAAw+suS82lncZjm7HZ555Zho1alTF8bH94osvFmBVqFghQIBA8wW8g9V8c1ck8LkCr776ajZvU+nAmCdrjTXWKK363WCBaC2Ib/5vvPHGjpxj9EdD43dwWMhZYKWVVkp/+MMf0vDhw9Oaa67Z6Wrrrrtuti26Ah5++OGdgqvSCTGZdnXrd2mf3wQIECDQHAEBVnOcXYVAtwRuv/32jm5qceLuu+/erfMdXJ/AE088keIduZh7bOzYsRUnRXAVQdfll19esd0KgTwE+vTpk5Zffvm0xBJLVLRWxbUWWWSRbFuMJHrYYYelp556Khu0JQbOidFGq9O7775bvck6AQIECDRRQBfBJmK7FIF6BKZPn55uueWWjkNj0tttt922Y91CzwWiFSA+qD7zzDMzzCzq4sILL8yOGTx48AyPtZNAowSqg/1ovYqBLE444YTsmV1wwQXTb3/72ywgu+6667KureXXjhFHJQIECBCYdQJasGadvSsTqClw8803p2effTbbF0OLx6TDUuMFVllllRTvtW244YZZ68CM3rW67LLL0muvvdb4m5AjgSqBCP4nTpxYsTUCrBh85ZFHHslGCoz3r6K1K1KMLlieIriad955yzdZJkCAAIEmC2jBajK4yxGYkUB8uBo2bFjHIfHSuyHCOzgathBD4EcLVnmK7lc33XRTNipbvANXnmKEtgsuuCD97Gc/K99smUDDBR599NGK7sER+H/wwQcpWqpimPbjjz++4m/Cf/7zn4p7WG211SrWrRAgQIBA8wUqv/pq/vVdkQCBMoHf//73KT7oR9pjjz10DSyzyXtxvvnmS7vuums2Ctt6663X6XIxJLZEIG+Bhx9+uOIS/fv3zwa/iI0HHHBAqg6gqo9fa621Ks63QoAAAQLNFxBgNd/cFQnUFIhvqG+99dZs36abbpoNvFDzQBtzFYhumSeddFKnURvfe+893QRzlZd5CFQHTPGFy9tvv511Zd1hhx0qkF566aUUP+Vp7bXXLl+1TIAAAQKzQECANQvQXZJAtcD999+fzjnnnGxzDNEcXdFm9E5Q9fnWGysQXbH23nvvTpmW3o3rtMMGAg0QmDJlSpo0aVKnnBZYYIFOXVrjoOpgLI4rvZvVKRMbCBAgQKBpAgKsplG7EIHaAjGSXbSYfPLJJ2ngwIHp5JNPTnPNNVftg21tmkB0tVpmmWUqrlf9blbFTisEeigQg1jUSj/4wQ9SvDdYnR566KGKTboHVnBYIUCAwCwTEGDNMnoXJpDSyy+/nI466qgU3c+WXXbZ9Otf/zr169cPTYsIRJ2Up0UXXbR81TKBhgpUt0hF5tGivc0229S8TvXxugfWZLKRAAECTRcQYDWd3AUJ/H+BN954Ix1xxBEpWkVistBTTz215rfUvGadQHWrQXXANevuzJV7o0B1wBRdVbuapmHy5Mnp9ddfr2CIOfMkAgQIEJj1AgKsWV8H7qCAAvHierxn9fzzz2fz2kRwtcgii9QlEV0KozuhlL9AeZfAaFmst47yvzNX6G0CESw999xzFcUaNGhQ1rJdsfF/K9XdAxdeeOG09NJL1zrUNgIECBBosoAAq8ngLkfg/fffTz//+c+zyURjaPBTTjklLbnkknXB3HfffWnIkCFp5MiRdR3voJ4JRDBbStFVSyKQl0B161VMILz77rt3ebnqAEv3wC6p7CBAgEDTBQRYTSd3wSILfPTRR+nYY49N48aNS3379k2/+tWv0oABA+oieeGFF9Jpp52WDYDx1a9+ta5zHDTzAlFHpRasGNFxr732mvnMnEngcwSqA6wImLpqMZ0+fXqqHhCj1D0wRrq8/vrrP+dqdhMgQIBAngJz5pm5vAkQ+Ezg448/zkYLLH2QOuSQQ9ISSyyR3nzzzc8OqlqKD1LRnTA+TA0fPjzFe1tbbrllipYvqXsC0RrVp0+ftNRSS9V14nnnnddx3CabbJJWXnnljnULBBotUPq7UMp33XXXLS12+j1hwoRsbqzyHRGQxXxZRx99dJo6dWo2MEbM6SYRIECAQPMFBFjNN3fFAgpEoBRdAe+5556O0kfr1cyk7bfffmZOK+w506ZNS/vvv3/WJTMQYuj1Aw44IH3lK1/p0uSyyy5LY8eOzfbHyIH77bdfl8faQaCnAq+88kp68cUXK7JZZ511KtbLV5588sny1TTHHHNk82edf/752cikv/nNb5LgqoLICgECBJoqIMBqKreLFVVg6NCh6Y477uhx8aP1xVw33WOM99YmTpzYcVKMvnbkkUem6GYZgVN5F81oLTzzzDPTnXfemR0f3jEAyeKLL95xvgUCjRaobr36v//7v7TSSit1eZnydwPjoGgdj5arSIcddliaUXCWHeQ/BAgQIJCrgAArV16ZE0gpvlW+4YYbGkKh9ar7jAsuuGDNkyLwuv/++9OXvvSl7F2XGNExArFobYzhsWPuoX333TctsMACNc+3kUCjBKoDrHifKt776yrNM888nXbF8dEyu91223XaZwMBAgQINFdAgNVcb1croMDdd9/dkFLHh/5vfOMbDcmrSJlEALXzzjuna6+9NgueyssewVQMZlFK0VIVLVu77rpr9n5cabvfBPIUiOC+PM3o/as4bv3110+XX355x/O82GKLZdM+aN0uV7RMgACBWScw26fvJ0yfdZd3ZQIECDRH4LXXXktjxozJRgaMgUXi3azoihWTCcccQmussUbdA2A0545dhUDXAtFN8KmnnkrLLbdc1p1wRi1eXediDwECBAjkISDAykNVngQIECBAgAABAgQIFFLAPFiFrHaFJkCAAAECBAgQIEAgDwEBVh6q8iRAgAABAgQIECBAoJACAqxCVrtCEyBAgAABAgQIECCQh4AAKw9VeRIgQIAAAQIECBAgUEgBAVYhq12hCRAgQIAAAQIECBDIQ0CAlYeqPAkQIECAAAECBAgQKKSAAKuQ1a7QBAgQIECAAAECBAjkISDAykNVngQIECBAgAABAgQIFFJAgFXIaldoAgQIECBAgAABAgTyEBBg5aEqTwIECBAgQIAAAQIECikgwCpktSs0AQIECBAgQIAAAQJ5CAiw8lCVJwECBAgQIECAAAEChRQQYBWy2hWaAAECBAgQIECAAIE8BARYeajKkwABAgQIECBAgACBQgoIsApZ7QpNgAABAgQIECBAgEAeAgKsPFTlSYAAAQIECBAgQIBAIQUEWIWsdoUmQIAAAQIECBAgQCAPAQFWHqryJECAAAECBAgQIECgkAICrEJWu0ITIECAAAECBAgQIJCHgAArD1V5EiBAgAABAgQIECBQSAEBViGrXaEJECBAgAABAgQIEMhDQICVh6o8CRAgQIAAAQIECBAopIAAq5DVrtAECBAgQIAAAQIECOQhIMDKQ1WeBAgQIECAAAECBAgUUkCAVchqV2gCBAgQIECAAAECBPIQEGDloSpPAgQIECBAgAABAgQKKSDAKmS1KzQBAgQIECBAgAABAnkICLDyUJUnAQIECBAgQIAAAQKFFBBgFbLaFZoAAQIECBAgQIAAgTwEBFh5qMqTAAECBAgQIECAAIFCCgiwClntCk2AAAECBAgQIECAQB4CAqw8VOVJgAABAgQIECBAgEAhBQRYhax2hSZAgAABAgQIECBAIA8BAVYeqvIkQIAAAQIECBAgQKCQAgKsQla7QhMgQIAAAQIECBAgkIeAACsPVXkSIECAAAECBAgQIFBIAQFWIatdoQkQIECAAAECBAgQyENAgJWHqjwJECBAgAABAgQIECikgACrkNWu0AQIECBAgAABAgQI5CEgwMpDVZ4ECBAgQIAAAQIECBRSQIBVyGpXaAIECBAgQIAAAQIE8hAQYOWhKk8CBAgQIECAAAECBAopIMAqZLUrNAECBAgQIECAAAECeQgIsPJQlScBAgQIECBAgAABAoUUEGAVstoVmgABAgQIECBAgACBPAQEWHmoypMAAQIECBAgQIAAgUIKCLAKWe0KTYAAAQIECBAgQIBAHgICrDxU5UmAAAECBAgQIECAQCEFBFiFrHaFJkCAAAECBAgQIEAgDwEBVh6q8iRAgAABAgQIECBAoJACAqxCVrtCEyBAgAABAgQIECCQh4AAKw9VeRIgQIAAAQIECBAgUEgBAVYhq12hCRAgQIAAAQIECBDIQ0CAlYeqPAkQIECAAAECBAgQKKSAAKuQ1a7QBAgQIECAAAECBAjkISDAykNVngQIECBAgAABAgQIFFJAgFXIaldoAgQIECBAgAABAgTyEBBg5aEqTwIECBAgQIAAAQIECikgwCpktSs0AQIECBAgQIAAAQJ5CAiw8lCVJwECBAgQIECAAAEChRQQYBWy2hWaAAECBAgQIECAAIE8BARYeajKkwABAgQIECBAgACBQgoIsApZ7QpNgAABAgQIECBAgEAeAgKsPFTlSYAAAQIECBAgQIBAIQUEWIWsdoUmQIAAAQIECBAgQCAPAQFWHqryJECAAAECBAgQIECgkAICrEJWu0ITIECAAAECBAgQIJCHgAArD1V5EiBAgAABAgQIECBQSAEBViGrXaEJECBAgAABAgQIEMhDQICVh6o8CRAgQIAAAQIECBAopIAAq5DVrtAECBAgQIAAAQIECOQhIMDKQ1WeBAgQIECAAAECBAgUUkCAVchqV2gCBAgQIECAAAECBPIQEGDloSpPAgQIECBAgAABAgQKKSDAKmS1KzQBAgQIECBAgAABAnkI/D+RtlLoPfYe0wAAAABJRU5ErkJggg==)\n"
      ]
    },
    {
      "cell_type": "code",
      "metadata": {
        "id": "0AuAM4HrEgG3",
        "colab": {
          "base_uri": "https://localhost:8080/"
        },
        "outputId": "052bad3c-9ff3-4adf-8136-72e7cd47082a"
      },
      "source": [
        "# Программирование на языке высокого уровня (Python).\n",
        "# https://www.yuripetrov.ru/edu/python\n",
        "# Задание task_04_02_09.\n",
        "#\n",
        "# Выполнил: Сачкова Г.Г\n",
        "# Группа: АДЭУ211\n",
        "\n",
        "\n",
        "a = float(input(\"a = \"))\n",
        "n = 1\n",
        "x_sum = 1/n\n",
        "\n",
        "while x_sum <= a:\n",
        "  n = n + 1\n",
        "  x_sum = x_sum + 1/n\n",
        "  \n",
        "print(\"n =\", n)\n",
        "# --------------\n",
        "# Пример вывода:\n",
        "#\n",
        "# a = 1.5\n",
        "# n = 3\n",
        "#\n",
        "# a = 2\n",
        "# n = 4"
      ],
      "execution_count": null,
      "outputs": [
        {
          "output_type": "stream",
          "name": "stdout",
          "text": [
            "a = 1.5\n",
            "n = 3\n"
          ]
        }
      ]
    },
    {
      "cell_type": "markdown",
      "metadata": {
        "id": "pveFYRJXfKPx"
      },
      "source": [
        "№ 4.2.10\n",
        "\n",
        "Дано натуральное число. Определите сумму и количество его цифр.\n",
        "\n"
      ]
    },
    {
      "cell_type": "code",
      "metadata": {
        "id": "taHU-RpYfS5a",
        "colab": {
          "base_uri": "https://localhost:8080/"
        },
        "outputId": "1ea5d46f-7ffa-44ec-cbc8-e2a24efa9000"
      },
      "source": [
        "# Программирование на языке высокого уровня (Python).\n",
        "# https://www.yuripetrov.ru/edu/python\n",
        "# Задание task_04_02_10.\n",
        "#\n",
        "# Выполнил: Сачкова Г.Г\n",
        "# Группа: АДЭУ211\n",
        "\n",
        "\n",
        "n = int(input(\"n = \"))\n",
        "n1 = n\n",
        "n_sum = 0\n",
        "while n1 > 0:\n",
        "  digit = n1 % 10\n",
        "  n_sum = n_sum + digit\n",
        "  n1 = n1//10\n",
        "print(\"Сумма =\", n_sum)\n",
        "n2 = n\n",
        "n_count = 0\n",
        "while n2 > 0:\n",
        "        n2 = n2 // 10\n",
        "        # if (x > 0):\n",
        "        n_count = n_count + 1\n",
        "print(\"количество =\", n_count)\n",
        "# --------------\n",
        "# Пример вывода:\n",
        "#\n",
        "# n = 12345\n",
        "# Сумма = 15\n",
        "# Количество = 5"
      ],
      "execution_count": null,
      "outputs": [
        {
          "output_type": "stream",
          "name": "stdout",
          "text": [
            "n = 123\n",
            "Сумма = 6\n",
            "количество = 3\n"
          ]
        }
      ]
    },
    {
      "cell_type": "markdown",
      "metadata": {
        "id": "0hc7sYofvXEe"
      },
      "source": [
        "№ 4.2.11\n",
        "\n",
        "Вывести в строку 10 первых натуральных чисел, оканчивающихся на цифру 𝑘, кратных числу 𝑠\n",
        " и находящихся в интервале, левая граница которого равна 𝑠𝑡𝑎𝑟𝑡"
      ]
    },
    {
      "cell_type": "code",
      "metadata": {
        "id": "kUMmuqYJvXbL",
        "colab": {
          "base_uri": "https://localhost:8080/"
        },
        "outputId": "fcbaae43-964d-4de8-9e25-3646550d78cf"
      },
      "source": [
        "# Программирование на языке высокого уровня (Python).\n",
        "# https://www.yuripetrov.ru/edu/python\n",
        "# Задание task_04_02_11.\n",
        "#\n",
        "# Выполнил: Сачкова Г.Г\n",
        "# Группа: АДЭУ211\n",
        "\n",
        "\n",
        "start = int(input(\"start = \"))\n",
        "k = int(input(\"k = \"))\n",
        "s = int(input(\"s = \"))\n",
        "# n_count = 99\n",
        "\n",
        "# while n_count < start:\n",
        "#   n_count = ((n_count - k)) % 10\n",
        "#   n_count = n_count % s\n",
        "# print(n_count)\n",
        "\n",
        "n_count = 0 #количество выведенеых чисел удовлетворяющие условию\n",
        "while n_count != 10:\n",
        "  \n",
        "  if (start % 10) == k:\n",
        "    if (start % s) == 0:\n",
        "      print(start, end=\" \")\n",
        "      n_count = n_count + 1\n",
        "  start = start + 1\n",
        "\n",
        "\n",
        "# --------------\n",
        "# Пример вывода:\n",
        "#\n",
        "# start = 100\n",
        "# k = 7\n",
        "# s = 9\n",
        "# 117 207 297 387 477 567 657 747 837 927"
      ],
      "execution_count": null,
      "outputs": [
        {
          "output_type": "stream",
          "name": "stdout",
          "text": [
            "start = 100\n",
            "k = 7\n",
            "s = 9\n",
            "117 207 297 387 477 567 657 747 837 927 "
          ]
        }
      ]
    },
    {
      "cell_type": "markdown",
      "metadata": {
        "id": "r7fw41Ft85sS"
      },
      "source": [
        "№ 4.2.12\n",
        "\n",
        "Даны целые числа 𝑎 и 𝑏\n",
        " (𝑎\n",
        " может быть больше 𝑏\n",
        "). Напечатайте:\n",
        "\n",
        "числа от минимального до максимального в строчку (разделяя пробелом);\n",
        "числа от максимального до минимального «столбиком».\n"
      ]
    },
    {
      "cell_type": "code",
      "metadata": {
        "id": "ts2Ei2yr9T6A",
        "colab": {
          "base_uri": "https://localhost:8080/"
        },
        "outputId": "4e1fd476-b604-4d42-fa14-98944b693c74"
      },
      "source": [
        "# Программирование на языке высокого уровня (Python).\n",
        "# https://www.yuripetrov.ru/edu/python\n",
        "# Задание task_04_02_12.\n",
        "#\n",
        "# Выполнил: Сачкова Г.Г\n",
        "# Группа: АДЭУ211\n",
        "\n",
        "a = int(input(\"a = \"))\n",
        "b = int(input(\"b = \"))\n",
        "a_copy = a\n",
        "while a_copy <= b:\n",
        "    print(a_copy, end=\" \")\n",
        "    a_copy = a_copy + 1\n",
        "print()\n",
        "while b >= a:\n",
        "    print(b)\n",
        "    b = b - 1\n",
        "\n",
        "\n",
        "# --------------\n",
        "# Пример вывода:\n",
        "#\n",
        "# a = 1\n",
        "# b = 5\n",
        "# 1 2 3 4 5\n",
        "# 5\n",
        "# 4\n",
        "# 3\n",
        "# 2\n",
        "# 1"
      ],
      "execution_count": null,
      "outputs": [
        {
          "output_type": "stream",
          "name": "stdout",
          "text": [
            "a = 1\n",
            "b = 5\n",
            "1 2 3 4 5 \n",
            "5\n",
            "4\n",
            "3\n",
            "2\n",
            "1\n"
          ]
        }
      ]
    },
    {
      "cell_type": "markdown",
      "metadata": {
        "id": "L8rIUesR7KGf"
      },
      "source": [
        "Для введенных с клавиатуры положительных целых чисел 𝑎\n",
        " и 𝑏\n",
        " (𝑎≤𝑏\n",
        ") определите:\n",
        "сумму всех целых чисел от 𝑎\n",
        " до 𝑏\n",
        ";\n",
        "произведение всех целых чисел от 𝑎\n",
        " до 𝑏\n",
        ";\n",
        "среднее арифметическое всех целых чисел от 𝑎\n",
        " до 𝑏\n",
        ";\n",
        "среднее геометрическое нечетных чисел от 𝑎\n",
        " до 𝑏\n",
        "Отрезок поиска включает сами числа 𝑎 и 𝑏\n",
        ". При выводе вещественных результатов оставьте два знака после запятой."
      ]
    },
    {
      "cell_type": "code",
      "metadata": {
        "id": "qx0wwppX8FSv",
        "colab": {
          "base_uri": "https://localhost:8080/"
        },
        "outputId": "a1066c4f-2cb4-407b-af07-9a5c92cd0502"
      },
      "source": [
        "# Программирование на языке высокого уровня (Python).\n",
        "# https://www.yuripetrov.ru/edu/python\n",
        "# Задание task_04_02_13.\n",
        "#\n",
        "# Выполнил: Сачкова Г.Г\n",
        "# Группа: АДЭУ211\n",
        "\n",
        "\n",
        "a = int(input(\"a = \"))\n",
        "b = int(input(\"b = \"))\n",
        "\n",
        "a1 = a\n",
        "n_sum = 0\n",
        "n_mult = 1 \n",
        "\n",
        "while a1 <= b:\n",
        "  n_sum = n_sum + a1\n",
        "  n_mult = n_mult * a1\n",
        "  a1 = a1 + 1\n",
        "\n",
        "n_avg = n_sum / ((b - a) + 1)\n",
        "n_avg_geom_whisout_sqrt = 1\n",
        "if (a % 2) == 0:\n",
        "  a = a + 1\n",
        "\n",
        "count = 0\n",
        "\n",
        "while a <= b:\n",
        "  n_avg_geom_whisout_sqrt = n_avg_geom_whisout_sqrt * a\n",
        "  a = a + 2\n",
        "  count = count + 1\n",
        "n_avg_geom = round(pow(n_avg_geom_whisout_sqrt, (1 / count)), 2)\n",
        "\n",
        "# Удалите комментарий и допишите код\n",
        "\n",
        "print(\"Сумма =\", n_sum)\n",
        "print(\"Произведение =\", n_mult)\n",
        "print(\"Среднее арифметическое = {}\".format(n_avg))\n",
        "print(\"Среднее геометрическое нечетных чисел = {}\".format(n_avg_geom))\n",
        "\n",
        "# --------------\n",
        "# Пример вывода:\n",
        "#\n",
        "# a = 1\n",
        "# b = 5\n",
        "# Сумма = 15\n",
        "# Произведение = 120\n",
        "# Среднее арифметическое = 3.00\n",
        "# Среднее геометрическое нечетных чисел = 2.47"
      ],
      "execution_count": null,
      "outputs": [
        {
          "output_type": "stream",
          "name": "stdout",
          "text": [
            "a = 1\n",
            "b = 5\n",
            "Сумма = 15\n",
            "Произведение = 120\n",
            "Среднее арифметическое = 3.0\n",
            "Среднее геометрическое нечетных чисел = 2.47\n"
          ]
        }
      ]
    },
    {
      "cell_type": "markdown",
      "metadata": {
        "id": "XqdWW_MR8HCI"
      },
      "source": [
        "№ 4.2.14\n",
        "\n",
        "Начав тренировки, лыжник в первый день пробежал 𝑠\n",
        " км. (𝑠>0\n",
        ", вещественное число). Каждый следующий день он увеличивал пробег на 𝑝\n",
        "p\n",
        " % (0<𝑝≤100\n",
        ", вещественное число) от пробега предыдущего дня. Определите:\n",
        "\n",
        "пробег лыжника за второй, третий, …, десятый день тренировок;\n",
        "какой суммарный путь он пробежал за первые 10 дней тренировок.\n",
        "При выводе вещественных результатов оставьте один знак после запятой.\n",
        "\n"
      ]
    },
    {
      "cell_type": "code",
      "metadata": {
        "id": "Ni0ibiNK8StN",
        "colab": {
          "base_uri": "https://localhost:8080/"
        },
        "outputId": "3caa4a33-85d3-4e05-e1ee-c73b48711ae2"
      },
      "source": [
        "# Программирование на языке высокого уровня (Python).\n",
        "# https://www.yuripetrov.ru/edu/python\n",
        "# Задание task_04_02_14.\n",
        "#\n",
        "# Выполнил: Сачкова Г.Г\n",
        "# Группа: АДЭУ211\n",
        "\n",
        "s = int(input(\"Пробег за 1-й день (км.) = \")) # >0\n",
        "p = int(input(\"На сколько увеличивает пробег (%) = \")) # 0 < p <= 100\n",
        "\n",
        "s = s * 1.0 # float\n",
        "p = p * 1.0 # float\n",
        "\n",
        "p = p / 100 # %\n",
        "count = s\n",
        "\n",
        "total = s\n",
        "\n",
        "for i in range(1,10):\n",
        "  count = round((count + (count * p)), 1)\n",
        "  total = total + count\n",
        "  print(\"Пробег за {}-й день:\".format(i + 1), count, \"км.\")\n",
        "\n",
        "print(\"Суммарный пробег: {:.1f} км.\".format(total))\n",
        "\n",
        "# --------------\n",
        "# Пример вывода:\n",
        "#\n",
        "# Пробег за 1-й день (км.) = 5\n",
        "# На сколько увеличивает пробег (%) = 10\n",
        "# Пробег за 2-й день: 5.5 км.\n",
        "# Пробег за 3-й день: 6.1 км.\n",
        "# Пробег за 4-й день: 6.7 км.\n",
        "# Пробег за 5-й день: 7.3 км.\n",
        "# Пробег за 6-й день: 8.1 км.\n",
        "# Пробег за 7-й день: 8.9 км.\n",
        "# Пробег за 8-й день: 9.7 км.\n",
        "# Пробег за 9-й день: 10.7 км.\n",
        "# Пробег за 10-й день: 11.8 км.\n",
        "# Суммарный пробег: 79.7 км."
      ],
      "execution_count": null,
      "outputs": [
        {
          "output_type": "stream",
          "name": "stdout",
          "text": [
            "Пробег за 1-й день (км.) = 5\n",
            "На сколько увеличивает пробег (%) = 10\n",
            "Пробег за 2-й день: 5.5 км.\n",
            "Пробег за 3-й день: 6.0 км.\n",
            "Пробег за 4-й день: 6.6 км.\n",
            "Пробег за 5-й день: 7.3 км.\n",
            "Пробег за 6-й день: 8.0 км.\n",
            "Пробег за 7-й день: 8.8 км.\n",
            "Пробег за 8-й день: 9.7 км.\n",
            "Пробег за 9-й день: 10.7 км.\n",
            "Пробег за 10-й день: 11.8 км.\n",
            "Суммарный пробег: 79.4 км.\n"
          ]
        }
      ]
    },
    {
      "cell_type": "markdown",
      "metadata": {
        "id": "zgngHv8eZgGK"
      },
      "source": [
        "Известна масса каждого предмета в кг., загружаемого в грузовик. Определить, возможна ли перевозка груза, если грузоподъемность грузовика равна 𝑝\n",
        " кг."
      ]
    },
    {
      "cell_type": "code",
      "metadata": {
        "id": "J14r75NiZloN"
      },
      "source": [
        "# Программирование на языке высокого уровня (Python).\n",
        "# https://www.yuripetrov.ru/edu/python\n",
        "# Задание task_04_02_15.\n",
        "#\n",
        "# Выполнил: Сачкова Г.Г\n",
        "# Группа: АДЭУ211\n",
        "\n",
        "\n",
        "p = int(input(\"Грузоподъемность грузовика (кг.) = \"))\n",
        "n = int(input(\"Количество предметов = \"))\n",
        "\n",
        "total = 0\n",
        "count = 1\n",
        "\n",
        "while count <= n:\n",
        "  total_input = int(input(\"Масса {}-го предмета (кг.) = \".format(count)))\n",
        "  count = count + 1\n",
        "  total = total + total_input\n",
        "if total <= p:\n",
        "  print(\"Да\")\n",
        "else:\n",
        "  print(\"Нет\")\n",
        "\n",
        "# --------------\n",
        "# Пример вывода:\n",
        "#\n",
        "# Грузоподъемность грузовика (кг.) = 10\n",
        "# Количество предметов = 2\n",
        "# Масса 1-го предмета (кг.) = 3\n",
        "# Масса 2-го предмета (кг.) = 3\n",
        "# Да\n"
      ],
      "execution_count": null,
      "outputs": []
    },
    {
      "cell_type": "markdown",
      "metadata": {
        "id": "8v9hLr0EZnDP"
      },
      "source": [
        "№ 4.2.16\n",
        "\n",
        "В области несколько районов. Заданы площади, засеваемые пшеницей (га.), и средняя урожайность (ц/га) в каждом районе.\n",
        "\n",
        "Определите количество пшеницы, собранное по области. При выводе вещественных результатов оставьте один знак после запятой."
      ]
    },
    {
      "cell_type": "code",
      "metadata": {
        "id": "GGvRktYYZuLo",
        "colab": {
          "base_uri": "https://localhost:8080/"
        },
        "outputId": "faff5895-b122-4fda-acbc-fdcd6e22f2c6"
      },
      "source": [
        "# Программирование на языке высокого уровня (Python).\n",
        "# https://www.yuripetrov.ru/edu/python\n",
        "# Задание task_04_02_16.\n",
        "#\n",
        "# Выполнил: Сачкова Г.Г\n",
        "# Группа: АДЭУ211\n",
        "\n",
        "\n",
        "n = int(input(\"Количество районов = \"))\n",
        "i = 1\n",
        "total = 0\n",
        "while i <= n:\n",
        "  s_input = int(input(\"Площадь {}-го района (га) = \".format(i)))\n",
        "  avg_input = int(input(\"Урожайность в {}-м районе (ц/га.) = \".format(i)))\n",
        "  total = total + (s_input * avg_input)\n",
        "  i = i + 1\n",
        "print(\"Собрано пщеницы:\", \"%.1f\" % total, \"ц.\")\n",
        "\n",
        "\n",
        "# --------------\n",
        "# Пример вывода:\n",
        "#\n",
        "# Количество районов = 3\n",
        "# Площадь 1-го района (га) = 4\n",
        "# Урожайность в 1-м районе (ц/га.) = 2\n",
        "# Площадь 2-го района (га) = 7\n",
        "# Урожайность в 2-м районе (ц/га.) = 3\n",
        "# Площадь 3-го района (га) = 9\n",
        "# Урожайность в 3-м районе (ц/га.) = 4\n",
        "# Собрано пшеницы: 65.0 ц.\n"
      ],
      "execution_count": null,
      "outputs": [
        {
          "output_type": "stream",
          "name": "stdout",
          "text": [
            "Количество районов = 3\n",
            "Площадь 1-го района (га) = 4\n",
            "Урожайность в 1-м районе (ц/га.) = 2\n",
            "Площадь 2-го района (га) = 7\n",
            "Урожайность в 2-м районе (ц/га.) = 3\n",
            "Площадь 3-го района (га) = 9\n",
            "Урожайность в 3-м районе (ц/га.) = 4\n",
            "Собрано пщеницы: 65.0 ц.\n"
          ]
        }
      ]
    },
    {
      "cell_type": "markdown",
      "metadata": {
        "id": "5AnOADKAZ1Ax"
      },
      "source": [
        "№ 4.2.17\n",
        "\n",
        "Решите задачу № 4.2.7, организовав бесконечный цикл, который бы прерывался при выполнении условия, используя оператор break.\n",
        "\n"
      ]
    },
    {
      "cell_type": "code",
      "metadata": {
        "id": "DRjriLC4Z4XY",
        "colab": {
          "base_uri": "https://localhost:8080/"
        },
        "outputId": "d19733db-3887-490b-e5e8-97cc5e9d92e9"
      },
      "source": [
        "# Программирование на языке высокого уровня (Python).\n",
        "# https://www.yuripetrov.ru/edu/python\n",
        "# Задание task_04_02_17.\n",
        "#\n",
        "# Выполнил: Сачкова Г.Г\n",
        "# Группа: АДЭУ211\n",
        "\n",
        "\n",
        "nums_sum = 0  # сумма\n",
        "nums_count = 0  # количество\n",
        "\n",
        "while True:\n",
        "  num_input = int(input(\"Введите {}-е число:\".format(nums_count + 1)))\n",
        "  nums_sum = nums_sum + num_input\n",
        "  if num_input == 0:\n",
        "    break\n",
        "  nums_count = nums_count + 1\n",
        "\n",
        "\n",
        "print(\"Сумма =\", nums_sum)\n",
        "print(\"Количество =\", nums_count)\n",
        "\n",
        "# --------------\n",
        "# Пример вывода:\n",
        "#\n",
        "# Введите 1-е число: 1\n",
        "# Введите 2-е число: 2\n",
        "# Введите 3-е число: 3\n",
        "# Введите 4-е число: 4\n",
        "# Введите 5-е число: 0\n",
        "# Сумма = 10\n",
        "# Количество = 4\n",
        "#\n",
        "# Введите 1-е число: 0\n",
        "# Сумма = 0\n",
        "# Количество = 0\n"
      ],
      "execution_count": null,
      "outputs": [
        {
          "output_type": "stream",
          "name": "stdout",
          "text": [
            "Введите 1-е число:0\n",
            "Сумма = 0\n",
            "Количество = 0\n"
          ]
        }
      ]
    },
    {
      "cell_type": "markdown",
      "metadata": {
        "id": "FVoepHUyiqaH"
      },
      "source": [
        "№ 4.2.18\n",
        "\n",
        "Предложение, введенное с клавиатуры, содержит слова из гласных и согласных букв кириллицы (регистр может быть различный), а также пробелы.\n",
        "\n",
        "Определите количество гласных и согласных букв в предложении. Для пропуска пробелов используйте оператор continue."
      ]
    },
    {
      "cell_type": "code",
      "metadata": {
        "colab": {
          "base_uri": "https://localhost:8080/"
        },
        "id": "xiwXaoYli39W",
        "outputId": "c29e0e8f-2348-4cf9-d368-dc890410f146"
      },
      "source": [
        "# Программирование на языке высокого уровня (Python).\n",
        "# https://www.yuripetrov.ru/edu/python\n",
        "# Задание task_04_02_18.\n",
        "#\n",
        "# Выполнил: Сачкова Г.Г\n",
        "# Группа: АДЭУ211\n",
        "\n",
        "\n",
        "sentence = input(\"Введите предложение:\")\n",
        "\n",
        "count_gl = 0  # Кол-во гласных\n",
        "count_sogl = 0  # Кол-во согласных\n",
        "\n",
        "gl = \"АаЕеИиОоУуЫыЭэЮюЯя\"\n",
        "sogl = \"БбВвГгДдЖжЗзЙйКкЛлМмНнПпРрСсТтФфХхЦцЧчШшЩщ\"\n",
        "\n",
        "count_gl = sum((1 for i in sentence if i in gl))\n",
        "count_sogl = sum((1 for i in sentence if i in sogl))\n",
        "\n",
        "print(\"Кол-во букв в предложении: гласных - {0}, согласных - {1}\".format(count_gl,count_sogl))\n",
        "# --------------\n",
        "# Пример вывода:\n",
        "#\n",
        "# Введите предложение: Программирование\n",
        "# Кол-во букв в предложении: гласных - 7, согласных - 9\n"
      ],
      "execution_count": null,
      "outputs": [
        {
          "output_type": "stream",
          "name": "stdout",
          "text": [
            "Введите предложение:Программирование\n",
            "Кол-во букв в предложении: гласных - 7, согласных - 9\n"
          ]
        }
      ]
    },
    {
      "cell_type": "markdown",
      "metadata": {
        "id": "N-PtkF5Qi5Xk"
      },
      "source": [
        "№ 4.2.19\n",
        "\n",
        "Выведите на экран (в строку) все целые числа от 𝑎\n",
        " до 𝑏\n",
        ", кратные некоторому числу 𝑐"
      ]
    },
    {
      "cell_type": "code",
      "metadata": {
        "colab": {
          "base_uri": "https://localhost:8080/"
        },
        "id": "6VtTmwTSjKJB",
        "outputId": "ed080ad8-3574-42fe-b8b3-9c522829143b"
      },
      "source": [
        "# Программирование на языке высокого уровня (Python).\n",
        "# https://www.yuripetrov.ru/edu/python\n",
        "# Задание task_04_02_19.\n",
        "#\n",
        "# Выполнил: Сачкова Г.Г\n",
        "# Группа: АДЭУ211\n",
        "\n",
        "\n",
        "a = int(input(\"a =\"))\n",
        "b = int(input(\"b =\"))\n",
        "c = int(input(\"c =\"))\n",
        "\n",
        "for i in range(a, b + 1):\n",
        "  if (i % c) == 0:\n",
        "    print(i, end=\" \") \n",
        "\n",
        "# --------------\n",
        "# Пример вывода:\n",
        "#\n",
        "# a = 1\n",
        "# b = 10\n",
        "# c = 2\n",
        "# 2 4 6 8 10\n"
      ],
      "execution_count": null,
      "outputs": [
        {
          "output_type": "stream",
          "name": "stdout",
          "text": [
            "a =1\n",
            "b =10\n",
            "c =2\n",
            "2 4 6 8 10 "
          ]
        }
      ]
    },
    {
      "cell_type": "markdown",
      "metadata": {
        "id": "Ec_99uDRjRbG"
      },
      "source": [
        "№ 4.2.20\n",
        "\n",
        "Выведите на экран (в строку) все трехзначные натуральные числа, сумма цифр которых равна целому числу 𝑛\n",
        " (0<𝑛≤27\n",
        ")."
      ]
    },
    {
      "cell_type": "code",
      "metadata": {
        "colab": {
          "base_uri": "https://localhost:8080/"
        },
        "id": "9o-HH3wHjn79",
        "outputId": "6ff223b7-6c0f-44ae-ac28-fe2db03db396"
      },
      "source": [
        "# Программирование на языке высокого уровня (Python).\n",
        "# https://www.yuripetrov.ru/edu/python\n",
        "# Задание task_04_02_20.\n",
        "#\n",
        "# Выполнил: Сачкова Г.Г\n",
        "# Группа: АДЭУ211\n",
        "\n",
        "\n",
        "n = int(input(\"n = \"))\n",
        "\n",
        "for i in range(100, 1000):\n",
        "  n1 = i % 10 # единицы\n",
        "  n2 = (i // 10) % 10 # десятки\n",
        "  n3 = i  // 100 # сотни\n",
        "  if (n1 + n2 + n3) == n:\n",
        "    print(i, end=\" \")\n",
        "\n",
        "# Удалите комментарий и допишите код\n",
        "\n",
        "# --------------\n",
        "# Пример вывода:\n",
        "#\n",
        "# n = 3\n",
        "# 102 111 120 201 210 300\n"
      ],
      "execution_count": null,
      "outputs": [
        {
          "output_type": "stream",
          "name": "stdout",
          "text": [
            "n = 3\n",
            "102 111 120 201 210 300 "
          ]
        }
      ]
    },
    {
      "cell_type": "markdown",
      "metadata": {
        "id": "NbR5aMedkCHA"
      },
      "source": [
        "№ 4.2.21\n",
        "\n",
        "Известно количество учеников в классе и их рост (см.); рост мальчиков условно задан отрицательными числами. Определите средний рост мальчиков и средний рост девочек.\n",
        "\n",
        "При выводе вещественных результатов оставьте один знак после запятой.\n",
        "\n"
      ]
    },
    {
      "cell_type": "code",
      "metadata": {
        "colab": {
          "base_uri": "https://localhost:8080/"
        },
        "id": "FTecOqV2kGln",
        "outputId": "80154a74-7335-4b07-95f7-62f29bcd036c"
      },
      "source": [
        "# Программирование на языке высокого уровня (Python).\n",
        "# https://www.yuripetrov.ru/edu/python\n",
        "# Задание task_04_02_21.\n",
        "#\n",
        "# Выполнил: Сачкова Г.Г\n",
        "# Группа: АДЭУ211\n",
        "\n",
        "\n",
        "n = int(input(\"n = \"))\n",
        "\n",
        "r_sr_m = 0.0\n",
        "r_sr_d = 0.0\n",
        "\n",
        "count_m = 0\n",
        "count_d = 0\n",
        "\n",
        "for i in range(1, n + 1):\n",
        "  i_input = int(input(\"Рост {}-го ученика = \".format(i)))\n",
        "  if i_input < 0:\n",
        "    r_sr_m = r_sr_m + i_input\n",
        "    count_m = count_m + 1\n",
        "  elif i_input > 0:\n",
        "    r_sr_d = r_sr_d + i_input\n",
        "    count_d = count_d + 1\n",
        "r_sr_m = (r_sr_m / count_m) * -1\n",
        "r_sr_d = r_sr_d / count_d\n",
        "\n",
        "print(\"Средний рост мальчиков: {:.1f}\".format(r_sr_m))\n",
        "print(\"Средний рост девочек: {:.1f}\".format(r_sr_d))\n",
        "\n",
        "# --------------\n",
        "# Пример вывода:\n",
        "#\n",
        "# n = 5\n",
        "# Рост 1-го ученика = 150\n",
        "# Рост 2-го ученика = -150\n",
        "# Рост 3-го ученика = 160\n",
        "# Рост 4-го ученика = 170\n",
        "# Рост 5-го ученика = 180\n",
        "# Средний рост мальчиков: 150.0\n",
        "# Средний рост девочек: 165.0"
      ],
      "execution_count": null,
      "outputs": [
        {
          "output_type": "stream",
          "name": "stdout",
          "text": [
            "n = 5\n",
            "Рост 1-го ученика = 150\n",
            "Рост 2-го ученика = -150\n",
            "Рост 3-го ученика = 160\n",
            "Рост 4-го ученика = 170\n",
            "Рост 5-го ученика = 180\n",
            "Средний рост мальчиков: 150.0\n",
            "Средний рост девочек: 165.0\n"
          ]
        }
      ]
    },
    {
      "cell_type": "markdown",
      "metadata": {
        "id": "KGm8hZ_Y83up"
      },
      "source": [
        "№ 4.2.25\n",
        "\n",
        "Выведите на экран таблицу умножения на 𝑛\n",
        " (2<𝑛≤9\n",
        ") в виде:"
      ]
    },
    {
      "cell_type": "code",
      "metadata": {
        "colab": {
          "base_uri": "https://localhost:8080/"
        },
        "id": "J2ZR8OBx9Aop",
        "outputId": "948cf382-02df-40bb-8e72-fdc3cc1cfa00"
      },
      "source": [
        "# Программирование на языке высокого уровня (Python).\n",
        "# https://www.yuripetrov.ru/edu/python\n",
        "# Задание task_04_02_25.\n",
        "#\n",
        "# Выполнил: Сачкова Г.Г\n",
        "# Группа: АДЭУ211\n",
        "\n",
        "\n",
        "n = int(input(\"n = \"))\n",
        "\n",
        "for i in range(1, n + 1):\n",
        "  for j in range(1, n + 1):\n",
        "    print(i, \"*\", j, \"=\", i * j, end=\"\\t\") \n",
        "  print()\n",
        "\n",
        "# --------------\n",
        "# Пример вывода:\n",
        "#\n",
        "# n = 5\n",
        "# 1 * 1 =  1  1 * 2 =  2  1 * 3 =  3  1 * 4 =  4  1 * 5 =  5\n",
        "# 2 * 1 =  2  2 * 2 =  4  2 * 3 =  6  2 * 4 =  8  2 * 5 = 10\n",
        "# 3 * 1 =  3  3 * 2 =  6  3 * 3 =  9  3 * 4 = 12  3 * 5 = 15\n",
        "# 4 * 1 =  4  4 * 2 =  8  4 * 3 = 12  4 * 4 = 16  4 * 5 = 20\n",
        "# 5 * 1 =  5  5 * 2 = 10  5 * 3 = 15  5 * 4 = 20  5 * 5 = 25"
      ],
      "execution_count": null,
      "outputs": [
        {
          "output_type": "stream",
          "name": "stdout",
          "text": [
            "n = 5\n",
            "1 * 1 = 1\t1 * 2 = 2\t1 * 3 = 3\t1 * 4 = 4\t1 * 5 = 5\t\n",
            "2 * 1 = 2\t2 * 2 = 4\t2 * 3 = 6\t2 * 4 = 8\t2 * 5 = 10\t\n",
            "3 * 1 = 3\t3 * 2 = 6\t3 * 3 = 9\t3 * 4 = 12\t3 * 5 = 15\t\n",
            "4 * 1 = 4\t4 * 2 = 8\t4 * 3 = 12\t4 * 4 = 16\t4 * 5 = 20\t\n",
            "5 * 1 = 5\t5 * 2 = 10\t5 * 3 = 15\t5 * 4 = 20\t5 * 5 = 25\t\n"
          ]
        }
      ]
    },
    {
      "cell_type": "markdown",
      "metadata": {
        "id": "NDed6qMz8xPn"
      },
      "source": [
        ""
      ]
    }
  ]
}