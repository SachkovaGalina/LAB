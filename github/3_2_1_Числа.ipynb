{
  "nbformat": 4,
  "nbformat_minor": 0,
  "metadata": {
    "colab": {
      "name": "3.2.1. Числа.ipynb",
      "provenance": [],
      "collapsed_sections": []
    },
    "kernelspec": {
      "name": "python3",
      "display_name": "Python 3"
    },
    "language_info": {
      "name": "python"
    }
  },
  "cells": [
    {
      "cell_type": "markdown",
      "metadata": {
        "id": "I-VRjuMvQHNT"
      },
      "source": [
        "№ 3.2.1\n",
        "\n",
        "Составьте программу, которая запрашивает у пользователя 2 целых числа и выполняет операции:\n",
        "\n",
        "арифметические: +, -, * , / , // , %, **;\n",
        "сравнение: <, <=, >, >=, !=, ==,\n",
        "выводя на экран результат каждого действия. В случае получение вещественного результата, округлите его до 2-х знаков после запятой (используя функцию round())."
      ]
    },
    {
      "cell_type": "code",
      "metadata": {
        "id": "-IyI948jOzT_",
        "colab": {
          "base_uri": "https://localhost:8080/"
        },
        "outputId": "9fcc9810-cdb3-4938-cb79-82f185b23ee7"
      },
      "source": [
        "# Программирование на языке высокого уровня (Python).\n",
        "# https://www.yuripetrov.ru/edu/python\n",
        "# Задание task_03_02_01.\n",
        "#\n",
        "# Выполнил: Сачкова Г.Г\n",
        "# Группа: АДЭУ211\n",
        "# \n",
        "\n",
        "\n",
        "a = int(input(\"a=\"))\n",
        "b = int(input(\"b=\"))\n",
        "\n",
        "print(a + b)\n",
        "print(a - b)\n",
        "print(a * b)\n",
        "print(round(a / b,2))\n",
        "print(a // b)\n",
        "print(a % b)\n",
        "print(a ** b)\n",
        "print(a < b)\n",
        "print(a <= b)\n",
        "print(a > b)\n",
        "print(a >= b)\n",
        "print(a != b)\n",
        "print(a == b)\n",
        "\n",
        "\n",
        "# --------------\n",
        "# Пример вывода:\n",
        "#\n",
        "# a=2\n",
        "# b=3\n",
        "# 5\n",
        "# -1\n",
        "# 6\n",
        "# 0.67\n",
        "# 0\n",
        "# 2\n",
        "# 8\n",
        "# True\n",
        "# True\n",
        "# False\n",
        "# False\n",
        "# True\n",
        "# False\n"
      ],
      "execution_count": null,
      "outputs": [
        {
          "output_type": "stream",
          "name": "stdout",
          "text": [
            "a=2\n",
            "b=3\n",
            "5\n",
            "-1\n",
            "6\n",
            "0.67\n",
            "0\n",
            "2\n",
            "8\n",
            "True\n",
            "True\n",
            "False\n",
            "False\n",
            "True\n",
            "False\n"
          ]
        }
      ]
    },
    {
      "cell_type": "markdown",
      "metadata": {
        "id": "15pVGZ5xl3ok"
      },
      "source": [
        " №3.2.2\n",
        " \n",
        "Вычислите значение следующего выражения (аргументы - целые числа и вводятся с клавиатуры):\n",
        "![Снимок экрана 2021-09-05 в 23.14.23.png](data:image/png;base64,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)\n",
        "Округлите результат до 3-х знаков после запятой, используя функцию round().\n",
        "\n"
      ]
    },
    {
      "cell_type": "code",
      "metadata": {
        "id": "3IbHVEV8nJCP",
        "colab": {
          "base_uri": "https://localhost:8080/"
        },
        "outputId": "c8941dd8-6093-451b-b851-51bd64423eb2"
      },
      "source": [
        "# Программирование на языке высокого уровня (Python).\n",
        "# https://www.yuripetrov.ru/edu/python\n",
        "# Задание task_03_02_02.\n",
        "#\n",
        "# Выполнил: Сачкова Г.Г\n",
        "# Группа: АДЭУ211\n",
        "#\n",
        " \n",
        "x = int(input(\"x=\"))\n",
        " \n",
        "y = int(input(\"y=\"))\n",
        " \n",
        "z = int(input(\"z=\"))\n",
        " \n",
        "res = pow((x**5 + 7)/(abs(-6) * y), 1/3)/(7 - z % y)\n",
        " \n",
        "print(\"x=\", x)\n",
        " \n",
        "print(\"y=\", y)\n",
        " \n",
        "print(\"z=\", z)\n",
        " \n",
        "print(round(res, 3))\n",
        " \n",
        " \n",
        " \n",
        " \n",
        "# --------------\n",
        "# Пример вывода:\n",
        "#\n",
        "# x=0\n",
        "# y=1\n",
        "# z=2\n",
        "# 0.15"
      ],
      "execution_count": null,
      "outputs": [
        {
          "output_type": "stream",
          "name": "stdout",
          "text": [
            "x=0\n",
            "y=1\n",
            "z=2\n",
            "x= 0\n",
            "y= 1\n",
            "z= 2\n",
            "0.15\n"
          ]
        }
      ]
    },
    {
      "cell_type": "markdown",
      "metadata": {
        "id": "l4gz6Jpmi31n"
      },
      "source": [
        ""
      ]
    },
    {
      "cell_type": "markdown",
      "metadata": {
        "id": "5V3UPCa-R44Y"
      },
      "source": [
        "№3.2.3\n",
        "\n",
        "Дана электрическая цепь, состоящая из 2-х последовательно соединенных проводников (сопротивление каждого известно). Найти общее сопротивление цепи (округление результата необходимо выполнить до 1-го знака после запятой)."
      ]
    },
    {
      "cell_type": "code",
      "metadata": {
        "id": "l4CmXyNnST1k",
        "colab": {
          "base_uri": "https://localhost:8080/"
        },
        "outputId": "8c4cc9a8-e0bd-4720-a9d7-7739cc8ea3fd"
      },
      "source": [
        "# Программирование на языке высокого уровня (Python).\n",
        "# https://www.yuripetrov.ru/edu/python\n",
        "# Задание task_03_02_03.\n",
        "#\n",
        "# Выполнил: Сачкова Г.Г\n",
        "# Группа: АДЭУ211\n",
        " \n",
        " \n",
        " \n",
        "# Сопротивление первого проводника\n",
        "r1 = float(input(\"r1=\"))\n",
        "# Сопротивление второго проводника\n",
        "r2 = float(input(\"r2=\"))\n",
        " \n",
        "# Общее сопротивление\n",
        "r = r1 + r2\n",
        " \n",
        "print(\"r1=\", r1)\n",
        " \n",
        "print(\"r2=\", r2)\n",
        "\n",
        "print(round(r,1))\n",
        " \n",
        " \n",
        "# --------------\n",
        "# Пример вывода:\n",
        "#\n",
        "# r1=12.2\n",
        "# r2=16.1\n",
        "# 28.3"
      ],
      "execution_count": null,
      "outputs": [
        {
          "output_type": "stream",
          "name": "stdout",
          "text": [
            "r1=12.2\n",
            "r2=16.1\n",
            "r1= 12.2\n",
            "r2= 16.1\n",
            "28.3\n"
          ]
        }
      ]
    },
    {
      "cell_type": "markdown",
      "metadata": {
        "id": "IXxni7kXtYWl"
      },
      "source": [
        "№3.2.4\n",
        "\n",
        "Дано двузначное и трехзначное число. Для каждого выведите на экран сумму и произведение цифр.\n",
        "\n"
      ]
    },
    {
      "cell_type": "code",
      "metadata": {
        "id": "jJ-VPyV-0RVh",
        "colab": {
          "base_uri": "https://localhost:8080/"
        },
        "outputId": "513b9b69-6a41-4e9b-8892-86d1e7d2af82"
      },
      "source": [
        "# Программирование на языке высокого уровня (Python).\n",
        "# https://www.yuripetrov.ru/edu/python\n",
        "# Задание task_03_02_04.\n",
        "#\n",
        "# Выполнил: Сачкова Г.Г\n",
        "# Группа: АДЭУ211\n",
        "\n",
        "\n",
        "\n",
        "# Двузначное число\n",
        "num2 = 45\n",
        "# Трехзначное число\n",
        "num3 = 456\n",
        "\n",
        "# 1-я цифра числа 'num2'\n",
        "num2_1 = (num2 // 10)\n",
        "# 2-я цифра числа 'num2'\n",
        "num2_2 = (num2 % 10)\n",
        "\n",
        "# Сумма цифр числа 'num2'\n",
        "num2_s = num2_1 + num2_2\n",
        "# Произведение цифр числа 'num2'\n",
        "num2_p = num2_1 * num2_2\n",
        "\n",
        "# 1-я цифра числа 'num3'\n",
        "num3_1 = num3 // 100\n",
        "# 2-я цифра числа 'num3'\n",
        "num3_2 = (num3 -  (num3_1 * 100)) // 10\n",
        "# 3-я цифра числа 'num3'\n",
        "num3_3 = num3 % 10\n",
        "\n",
        "# Сумма цифр числа 'num3'\n",
        "num3_s = num3_1  + num3_2 + num3_3\n",
        "# Произведение цифр числа 'num3'\n",
        "num3_p = num3_1  * num3_2 * num3_3\n",
        "\n",
        "# Вывод результата\n",
        "print(\"Двузначное число:\", num2)\n",
        "print(\"Трехзначное число:\", num3)\n",
        "print(\"Сумма и произведение цифр двузначного числа:\", num2_s, num2_p)\n",
        "print(\"Сумма и произведение цифр трехзначного числа:\", num3_s, num3_p)\n",
        "\n",
        "\n",
        "# --------------\n",
        "# Пример вывода:\n",
        "#\n",
        "# Двузначное число: 45\n",
        "# Трехзначное число: 456\n",
        "# Сумма и произведение цифр двузначного числа: 9 20\n",
        "# Сумма и произведение цифр трехзначного числа: 15 120\n"
      ],
      "execution_count": null,
      "outputs": [
        {
          "output_type": "stream",
          "name": "stdout",
          "text": [
            "Двузначное число: 45\n",
            "Трехзначное число: 456\n",
            "Сумма и произведение цифр двузначного числа: 9 20\n",
            "Сумма и произведение цифр трехзначного числа: 15 120\n"
          ]
        }
      ]
    },
    {
      "cell_type": "markdown",
      "metadata": {
        "id": "oa0VkT7mUitR"
      },
      "source": [
        "№ 3.2.5\n",
        "С начала суток прошло m минут (0<𝑚≤24∗60)\n",
        "Определите:\n",
        "\n",
        "целое количество часов, прошедших с начала суток;\n",
        "\n",
        "количество минут, прошедших с момента начала последнего часа.\n"
      ]
    },
    {
      "cell_type": "code",
      "metadata": {
        "colab": {
          "base_uri": "https://localhost:8080/"
        },
        "id": "HjKOL7JBVBjC",
        "outputId": "a66f87f4-4df6-49b3-afe7-bfbc95fe81af"
      },
      "source": [
        "# Программирование на языке высокого уровня (Python).\n",
        "# https://www.yuripetrov.ru/edu/python\n",
        "# Задание task_03_02_05.\n",
        "#\n",
        "# Выполнил: Сачкова Г.Г\n",
        "# Группа: АДЭУ211\n",
        "\n",
        "\n",
        "# Количество минут\n",
        "m = 123\n",
        "\n",
        "# Количество часов, прошедших с начала суток\n",
        "h = m // 60\n",
        "# Количество минут, прошедших с момента начала последнего часа\n",
        "m2 = m % 60\n",
        "\n",
        "print(\"Количество минут, прошедших с начала суток:\", m)\n",
        "print(\"Количество часов, прошедших с начала суток:\", h)\n",
        "print(\"Количество минут, прошедших с момента начала последнего часа:\", m2)\n",
        "\n",
        "\n",
        "# --------------\n",
        "# Пример вывода:\n",
        "#\n",
        "# Количество минут, прошедшее с начала суток: 123\n",
        "# Количество часов, прошедших с начала суток: 2\n",
        "# Количество минут, прошедших с момента начала последнего часа: 3\n"
      ],
      "execution_count": null,
      "outputs": [
        {
          "output_type": "stream",
          "name": "stdout",
          "text": [
            "Количество минут, прошедших с начала суток: 123\n",
            "Количество часов, прошедших с начала суток: 2\n",
            "Количество минут, прошедших с момента начала последнего часа: 3\n"
          ]
        }
      ]
    },
    {
      "cell_type": "markdown",
      "metadata": {
        "id": "tQOdCKlUZ1aC"
      },
      "source": [
        "Дано уравнение ax + b = 0 и отрезок [𝑚;𝑛]. Ответьте на вопрос, попадает ли решение уравнения в указанный отрезок.\n",
        "\n"
      ]
    },
    {
      "cell_type": "code",
      "metadata": {
        "colab": {
          "base_uri": "https://localhost:8080/"
        },
        "id": "jDFBZGE4aGjX",
        "outputId": "6e898df0-6102-4830-be3d-24081db8d917"
      },
      "source": [
        "# Программирование на языке высокого уровня (Python).\n",
        "# https://www.yuripetrov.ru/edu/python\n",
        "# Задание task_03_02_06.\n",
        "#\n",
        "# Выполнил: Сачкова Г.Г\n",
        "# Группа: АДЭУ211\n",
        "\n",
        "\n",
        "a = 1 \n",
        "b = 2 \n",
        "m = -5\n",
        "n = 5\n",
        "\n",
        "x = -2\n",
        "\n",
        "print(\"a =\", a)\n",
        "print(\"b =\", b)\n",
        "print(\"m =\", m)\n",
        "print(\"n =\", n)\n",
        "\n",
        "if m <= x <= n:\n",
        "  is_ok = True\n",
        "  print(\"Попадает:\", is_ok)\n",
        "else:\n",
        "  is_ok = False\n",
        "  print(\"Не попадает:\", is_ok)\n",
        "  \n",
        "\n",
        "\n",
        "#print(\"Попадает:\", is_ok)\n",
        "\n",
        "\n",
        "# --------------\n",
        "# Пример вывода:\n",
        "#\n",
        "# Введите a = 1\n",
        "# Введите b = 2\n",
        "# Введите m = -5\n",
        "# Введите n = 5\n",
        "# Попадает: True\n"
      ],
      "execution_count": null,
      "outputs": [
        {
          "output_type": "stream",
          "name": "stdout",
          "text": [
            "a = 1\n",
            "b = 2\n",
            "m = -5\n",
            "n = 5\n",
            "Попадает: True\n"
          ]
        }
      ]
    },
    {
      "cell_type": "markdown",
      "metadata": {
        "id": "roht_olke4HQ"
      },
      "source": [
        "№ 3.2.7\n",
        "Составьте программу, которая запрашивает название футбольной команды и повторяет его на экране со словами\n",
        "\n",
        "... - чемпион!\n",
        "После этого выполните:\n",
        "\n",
        "используя операцию дублирования, нарисуйте черту (набор \"-\"), длиной, равной размеру названия команды;\n",
        "преобразуйте строку в нижний регистр и выведите на экран:\n",
        "длину наименования команды;\n",
        "есть ли в наименовании команды буква \"п\" (True/False)?\n",
        "сколько раз повторяется буква \"а\"?"
      ]
    },
    {
      "cell_type": "code",
      "metadata": {
        "colab": {
          "base_uri": "https://localhost:8080/",
          "height": 368
        },
        "id": "xgrzxoREfExM",
        "outputId": "7d15cef5-ce71-4441-81da-64c270d2e91d"
      },
      "source": [
        "# Программирование на языке высокого уровня (Python).\n",
        "# https://www.yuripetrov.ru/edu/python\n",
        "# Задание task_03_02_07.\n",
        "#\n",
        "# Выполнил: Сачкова Г.Г.\n",
        "# Группа: АДЭУ211\n",
        " \n",
        "import str.lower\n",
        " \n",
        "team = input(\"Введите название команды: \")\n",
        " \n",
        "print(team,\"- чемпион!\" )\n",
        " \n",
        "print(len(team)*\"-\")\n",
        " \n",
        "# Название команды в нижнем регистре\n",
        "team_lowercase =  lower(team)\n",
        "print(\"Символов в названии команды:\", len(team))\n",
        " \n",
        "for i in team:\n",
        "  if i == 'п':\n",
        "    cool = True\n",
        "  else:\n",
        "    cool == False\n",
        "print('Буква \"п\" есть:', cool)\n",
        "hop = 0\n",
        "for i in team:\n",
        "  if i == \"a\":\n",
        "    hop+1      # инкремент (+1)\n",
        " \n",
        "print('Количество букв \"а\":', hop)\n",
        " \n",
        " \n",
        "# --------------\n",
        "# Пример вывода:\n",
        "#\n",
        "# Введите название команды: Спартак\n",
        "# Спартак - чемпион!\n",
        "# -------\n",
        "# Символов в названии команды: 7\n",
        "# Буква \"п\" есть: True\n",
        "# Количество букв \"а\": 2"
      ],
      "execution_count": null,
      "outputs": [
        {
          "output_type": "error",
          "ename": "ModuleNotFoundError",
          "evalue": "ignored",
          "traceback": [
            "\u001b[0;31m---------------------------------------------------------------------------\u001b[0m",
            "\u001b[0;31mModuleNotFoundError\u001b[0m                       Traceback (most recent call last)",
            "\u001b[0;32m<ipython-input-39-61315fe260d0>\u001b[0m in \u001b[0;36m<module>\u001b[0;34m()\u001b[0m\n\u001b[1;32m      6\u001b[0m \u001b[0;31m# Группа: АДЭУ211\u001b[0m\u001b[0;34m\u001b[0m\u001b[0;34m\u001b[0m\u001b[0;34m\u001b[0m\u001b[0m\n\u001b[1;32m      7\u001b[0m \u001b[0;34m\u001b[0m\u001b[0m\n\u001b[0;32m----> 8\u001b[0;31m \u001b[0;32mimport\u001b[0m \u001b[0mstr\u001b[0m\u001b[0;34m.\u001b[0m\u001b[0mlower\u001b[0m\u001b[0;34m\u001b[0m\u001b[0;34m\u001b[0m\u001b[0m\n\u001b[0m\u001b[1;32m      9\u001b[0m \u001b[0;34m\u001b[0m\u001b[0m\n\u001b[1;32m     10\u001b[0m \u001b[0mteam\u001b[0m \u001b[0;34m=\u001b[0m \u001b[0minput\u001b[0m\u001b[0;34m(\u001b[0m\u001b[0;34m\"Введите название команды: \"\u001b[0m\u001b[0;34m)\u001b[0m\u001b[0;34m\u001b[0m\u001b[0;34m\u001b[0m\u001b[0m\n",
            "\u001b[0;31mModuleNotFoundError\u001b[0m: No module named 'str'",
            "",
            "\u001b[0;31m---------------------------------------------------------------------------\u001b[0;32m\nNOTE: If your import is failing due to a missing package, you can\nmanually install dependencies using either !pip or !apt.\n\nTo view examples of installing some common dependencies, click the\n\"Open Examples\" button below.\n\u001b[0;31m---------------------------------------------------------------------------\u001b[0m\n"
          ],
          "errorDetails": {
            "actions": [
              {
                "action": "open_url",
                "actionText": "Open Examples",
                "url": "/notebooks/snippets/importing_libraries.ipynb"
              }
            ]
          }
        }
      ]
    },
    {
      "cell_type": "code",
      "metadata": {
        "colab": {
          "base_uri": "https://localhost:8080/"
        },
        "id": "nU5P1vcqAEsr",
        "outputId": "b6552995-30a2-46ab-d69b-28b8fb9c519c"
      },
      "source": [
        " \n",
        "# Программирование на языке высокого уровня (Python).\n",
        "# https://www.yuripetrov.ru/edu/python\n",
        "# Задание task_03_02_07.\n",
        "#\n",
        "# Выполнил: Сачкова Г.Г.\n",
        "# Группа: АДЭУ211\n",
        " \n",
        " \n",
        " \n",
        "team = input(\"Введите название команды: \")\n",
        " \n",
        "print(team, \"- чемпион!\")\n",
        " \n",
        "print(len(team) * \"-\")\n",
        " \n",
        "# Название команды в нижнем регистре\n",
        "team_lowercase = str.lower(team)\n",
        "print(\"Символов в названии команды:\", len(team))\n",
        " \n",
        "if team.find(\"п\") < 1:\n",
        "    cool = False\n",
        "else:\n",
        "    cool = True\n",
        " \n",
        "print('Буква \"п\" есть:', cool)\n",
        " \n",
        "print('Количество букв \"а\":', team.find(\"а\"))\n",
        " \n",
        "# --------------\n",
        "# Пример вывода:\n",
        "#\n",
        "# Введите название команды: Спартак\n",
        "# Спартак - чемпион!\n",
        "# -------\n",
        "# Символов в названии команды: 7\n",
        "# Буква \"п\" есть: True\n",
        "# Количество букв \"а\": 2"
      ],
      "execution_count": null,
      "outputs": [
        {
          "output_type": "stream",
          "name": "stdout",
          "text": [
            "Введите название команды: Спартак\n",
            "Спартак - чемпион!\n",
            "-------\n",
            "Символов в названии команды: 7\n",
            "Буква \"п\" есть: True\n",
            "Количество букв \"а\": 2\n"
          ]
        }
      ]
    },
    {
      "cell_type": "markdown",
      "metadata": {
        "id": "BBNjv966k7Wg"
      },
      "source": [
        "№ 3.2.8\n",
        "\n",
        "Составьте программу, которая запрашивает название государства и его столицы, а затем выводит сообщение:\n",
        "\n",
        "Государство - ..., столица - ...\n",
        "На месте многоточий должны быть выведены соответствующие значения."
      ]
    },
    {
      "cell_type": "code",
      "metadata": {
        "colab": {
          "base_uri": "https://localhost:8080/"
        },
        "id": "jhx_LB35lDyC",
        "outputId": "19812182-c0e1-4e11-bf0f-e3521dae3170"
      },
      "source": [
        "# Программирование на языке высокого уровня (Python).\n",
        "# https://www.yuripetrov.ru/edu/python\n",
        "# Задание task_03_02_08.\n",
        "#\n",
        "# Выполнил: Сачкова Г.Г\n",
        "# Группа: АДЭУ211\n",
        "\n",
        "\n",
        "\n",
        "# Название государства\n",
        "country = input('Введите название государства:')\n",
        "# Название столицы\n",
        "capital = input('Введите название столица:')\n",
        "\n",
        "print('Государство - {0}, столица - {1}'.format(country, capital))\n",
        "\n",
        "\n",
        "# --------------\n",
        "# Пример вывода:\n",
        "#\n",
        "# Введите название государства: Россия\n",
        "# Введите название столицы: Москва\n",
        "# Государство - Россия, столица - Москва\n"
      ],
      "execution_count": null,
      "outputs": [
        {
          "output_type": "stream",
          "name": "stdout",
          "text": [
            "Введите название государства:Россия \n",
            "Введите название столица:Москва \n",
            "Государство - Россия , столица - Москва \n"
          ]
        }
      ]
    },
    {
      "cell_type": "markdown",
      "metadata": {
        "id": "gPPMf-JXoycx"
      },
      "source": [
        "№ 3.2.9\n",
        "\n",
        "Дано слово объектно-ориентированный. Используя индексацию и срезы составьте из него слова объект, ориентир, тир, кот, рента и выведите их на экран."
      ]
    },
    {
      "cell_type": "code",
      "metadata": {
        "colab": {
          "base_uri": "https://localhost:8080/"
        },
        "id": "XdzWArwnpBcc",
        "outputId": "4672182d-2af9-43fb-a27d-1faacfa9609d"
      },
      "source": [
        "# Программирование на языке высокого уровня (Python).\n",
        "# https://www.yuripetrov.ru/edu/python\n",
        "# Задание task_03_02_09.\n",
        "#\n",
        "# Выполнил: Сачкова Г.Г\n",
        "# Группа: АДЭУ211\n",
        "\n",
        "\n",
        "\n",
        "word = \"объектно-ориентированный\"\n",
        "\n",
        "w1 = word[:6] # (слово объект)\n",
        "w2 = word[9:17] # (слово ориентир)\n",
        "w3 = word[14:17] # (слово тир)\n",
        "w4 = word[4:15:5] # (слово кот)\n",
        "w5 = word[10] + word[12:15] + word[19] # (слово рента)\n",
        "\n",
        "print(w1, w2, w3, w4, w5, sep=\"\\n\")\n",
        "\n",
        "\n",
        "# --------------\n",
        "# Пример вывода:\n",
        "#\n",
        "# объект\n",
        "# ориентир\n",
        "# тир\n",
        "# кот\n",
        "# рента\n"
      ],
      "execution_count": null,
      "outputs": [
        {
          "output_type": "stream",
          "name": "stdout",
          "text": [
            "объект\n",
            "ориентир\n",
            "тир\n",
            "кот\n",
            "рента\n"
          ]
        }
      ]
    }
  ]
}